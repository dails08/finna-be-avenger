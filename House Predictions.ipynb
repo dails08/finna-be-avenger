{
 "cells": [
  {
   "cell_type": "code",
   "execution_count": 1,
   "metadata": {
    "collapsed": true
   },
   "outputs": [],
   "source": [
    "# This tells matplotlib not to try opening a new window for each plot.\n",
    "%matplotlib inline\n",
    "\n",
    "# General libraries.\n",
    "import re\n",
    "import numpy as np\n",
    "import matplotlib.pyplot as plt\n",
    "\n",
    "# SK-learn libraries for learning.\n",
    "from sklearn.pipeline import Pipeline\n",
    "from sklearn.neighbors import KNeighborsClassifier\n",
    "from sklearn.linear_model import LogisticRegression\n",
    "from sklearn.naive_bayes import BernoulliNB\n",
    "from sklearn.naive_bayes import MultinomialNB\n",
    "from sklearn.grid_search import GridSearchCV\n",
    "\n",
    "# SK-learn libraries for evaluation.\n",
    "from sklearn.metrics import confusion_matrix\n",
    "from sklearn import metrics\n",
    "from sklearn.metrics import classification_report\n",
    "\n",
    "# SK-learn libraries for feature extraction from text.\n",
    "from sklearn.feature_extraction.text import *"
   ]
  },
  {
   "cell_type": "code",
   "execution_count": 2,
   "metadata": {
    "collapsed": false
   },
   "outputs": [
    {
     "name": "stdout",
     "output_type": "stream",
     "text": [
      "71211\n"
     ]
    }
   ],
   "source": [
    "speech = open(\"speech.txt\").readlines()\n",
    "print len(speech)\n",
    "\n"
   ]
  },
  {
   "cell_type": "code",
   "execution_count": 9,
   "metadata": {
    "collapsed": false
   },
   "outputs": [
    {
     "name": "stdout",
     "output_type": "stream",
     "text": [
      "['7, 08, marcus,  abajo  get him down \\n', '7, 08, house,  what you got against chickens  one got choked last night thanks to you \\n', '7, 08, cuddy,  33yearold male with hemoptysis fever\\xe2\\x80\\xa6 \\n', '7, 08, house,  cant we even talk about it \\n', '7, 08, cuddy,  you cant apologize we cant talk  and puncture wounds \\n']\n"
     ]
    }
   ],
   "source": [
    "print speech[:5]"
   ]
  },
  {
   "cell_type": "code",
   "execution_count": 17,
   "metadata": {
    "collapsed": false,
    "scrolled": true
   },
   "outputs": [
    {
     "name": "stdout",
     "output_type": "stream",
     "text": [
      "['7, 08, marcus,  abajo  get him down \\n', '7, 08, house,  what you got against chickens  one got choked last night thanks to you \\n', '7, 08, cuddy,  33yearold male with hemoptysis fever\\xe2\\x80\\xa6 \\n', '7, 08, house,  cant we even talk about it \\n', '7, 08, cuddy,  you cant apologize we cant talk  and puncture wounds \\n']\n",
      "[['marcus', ' abajo  get him down \\n'], ['house', ' what you got against chickens  one got choked last night thanks to you \\n'], ['cuddy', ' 33yearold male with hemoptysis fever\\xe2\\x80\\xa6 \\n'], ['house', ' cant we even talk about it \\n'], ['cuddy', ' you cant apologize we cant talk  and puncture wounds \\n']]\n",
      "40807\n",
      "['house', 'cuddy', 'house', 'cuddy', 'house']\n",
      "[' what you got against chickens  one got choked last night thanks to you \\n', ' 33yearold male with hemoptysis fever\\xe2\\x80\\xa6 \\n', ' cant we even talk about it \\n', ' you cant apologize we cant talk  and puncture wounds \\n', ' im not apologizing for doing the right thing \\n']\n"
     ]
    }
   ],
   "source": [
    "speech_sample = speech[:5]\n",
    "print speech_sample\n",
    "adjusted_speech = [re.split(\", \", x)[2:] for x in speech]\n",
    "print adjusted_speech[:5]\n",
    "main_chars_speech = [x for x in adjusted_speech if x[0]==\"house\" or x[0]==\"cuddy\" or x[0]==\"chase\" or x[0]==\"cameron\" \\\n",
    "                     or x[0]==\"foreman\"]\n",
    "print len(main_chars_speech)\n",
    "\n",
    "usable_speech = main_chars_speech\n",
    "\n",
    "test_labels = [x[0] for x in usable_speech[-10000:-5000]]\n",
    "test_data = [x[1] for x in usable_speech[-10000:-5000]]\n",
    "dev_labels = [x[0] for x in usable_speech[-5000:]]\n",
    "dev_data = [x[1] for x in usable_speech[-5000:]]\n",
    "train_labels = [x[0] for x in usable_speech[:-10000]]\n",
    "train_data = [x[1] for x in usable_speech[:-10000]]\n",
    "\n",
    "print train_labels[:5]\n",
    "print train_data[:5]\n"
   ]
  },
  {
   "cell_type": "code",
   "execution_count": 18,
   "metadata": {
    "collapsed": false
   },
   "outputs": [
    {
     "name": "stdout",
     "output_type": "stream",
     "text": [
      "30807\n",
      "30807\n",
      "5000\n",
      "5000\n",
      "5000\n",
      "5000\n"
     ]
    }
   ],
   "source": [
    "print len(train_labels)\n",
    "print len(train_data)\n",
    "print len(dev_labels)\n",
    "print len(dev_data)\n",
    "print len(test_labels)\n",
    "print len(test_data)"
   ]
  },
  {
   "cell_type": "code",
   "execution_count": 19,
   "metadata": {
    "collapsed": true
   },
   "outputs": [],
   "source": [
    "cv1 = CountVectorizer().fit(train_data)\n",
    "dtm1 = cv1.transform(train_data)"
   ]
  },
  {
   "cell_type": "code",
   "execution_count": null,
   "metadata": {
    "collapsed": false
   },
   "outputs": [],
   "source": [
    "\n",
    "lr1 = LogisticRegression().fit(dtm1, train_labels)\n",
    "preds = lr1.predict(cv1.transform(dev_data))\n",
    "print metrics.f1_score(dev_labels, preds, average=\"weighted\")"
   ]
  },
  {
   "cell_type": "code",
   "execution_count": 22,
   "metadata": {
    "collapsed": false
   },
   "outputs": [
    {
     "name": "stdout",
     "output_type": "stream",
     "text": [
      "0.4814\n",
      "0.4816\n"
     ]
    }
   ],
   "source": [
    "nb1 = MultinomialNB().fit(dtm1, train_labels)\n",
    "predsNB = nb1.predict(cv1.transform(dev_data))\n",
    "print nb1.score(cv1.transform(dev_data), dev_labels)\n",
    "a = [.01,.02,.03,.04,.05,.06,.07,.08,.09,.1,.2,.3,.4,.5,.6,.7,.8,.9,.99,.999,.9999]\n",
    "nb1_adjusted = GridSearchCV(nb1, {'alpha': a})\n",
    "nb1_adjusted.fit(dtm1, train_labels)\n",
    "print nb1_adjusted.score(cv1.transform(dev_data), dev_labels)"
   ]
  },
  {
   "cell_type": "code",
   "execution_count": null,
   "metadata": {
    "collapsed": true
   },
   "outputs": [],
   "source": [
    "predsANB = nb1_adjusted.predict(cv1.transform(dev_data))\n",
    "print"
   ]
  }
 ],
 "metadata": {
  "kernelspec": {
   "display_name": "Python 2",
   "language": "python",
   "name": "python2"
  },
  "language_info": {
   "codemirror_mode": {
    "name": "ipython",
    "version": 2
   },
   "file_extension": ".py",
   "mimetype": "text/x-python",
   "name": "python",
   "nbconvert_exporter": "python",
   "pygments_lexer": "ipython2",
   "version": "2.7.6"
  }
 },
 "nbformat": 4,
 "nbformat_minor": 0
}
