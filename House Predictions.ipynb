{
 "cells": [
  {
   "cell_type": "code",
   "execution_count": 21,
   "metadata": {
    "collapsed": true
   },
   "outputs": [],
   "source": [
    "# This tells matplotlib not to try opening a new window for each plot.\n",
    "%matplotlib inline\n",
    "\n",
    "# General libraries.\n",
    "import re\n",
    "import random as rnd\n",
    "import numpy as np\n",
    "import matplotlib.pyplot as plt\n",
    "import string\n",
    "\n",
    "# SK-learn libraries for learning.\n",
    "from sklearn.pipeline import Pipeline\n",
    "from sklearn.neighbors import KNeighborsClassifier\n",
    "from sklearn.linear_model import LogisticRegression\n",
    "from sklearn.naive_bayes import BernoulliNB\n",
    "from sklearn.naive_bayes import MultinomialNB\n",
    "from sklearn.grid_search import GridSearchCV\n",
    "\n",
    "# SK-learn libraries for evaluation.\n",
    "from sklearn.metrics import confusion_matrix\n",
    "from sklearn import metrics\n",
    "from sklearn.metrics import classification_report\n",
    "\n",
    "# SK-learn libraries for feature extraction from text.\n",
    "from sklearn.feature_extraction.text import *"
   ]
  },
  {
   "cell_type": "code",
   "execution_count": 22,
   "metadata": {
    "collapsed": false
   },
   "outputs": [
    {
     "name": "stdout",
     "output_type": "stream",
     "text": [
      "71211\n",
      "71211\n"
     ]
    }
   ],
   "source": [
    "#speech data comes from a previous project\n",
    "speech = open(\"speech.txt\").readlines()\n",
    "print len(speech)\n",
    "#This line gets rid of some pesky charactesr like smart quotes or the ellipsis character (...)\n",
    "#If I don't remove them the vectorizers freak out\n",
    "speech = [filter(lambda x: x in string.printable, s) for s in speech]\n",
    "print len(speech)\n"
   ]
  },
  {
   "cell_type": "code",
   "execution_count": 23,
   "metadata": {
    "collapsed": false
   },
   "outputs": [
    {
     "name": "stdout",
     "output_type": "stream",
     "text": [
      "['7, 08, marcus,  abajo  get him down \\n', '7, 08, house,  what you got against chickens  one got choked last night thanks to you \\n', '7, 08, cuddy,  33yearold male with hemoptysis fever \\n', '7, 08, house,  cant we even talk about it \\n', '7, 08, cuddy,  you cant apologize we cant talk  and puncture wounds \\n']\n"
     ]
    }
   ],
   "source": [
    "print speech[:5]"
   ]
  },
  {
   "cell_type": "code",
   "execution_count": 57,
   "metadata": {
    "collapsed": false,
    "scrolled": true
   },
   "outputs": [
    {
     "name": "stdout",
     "output_type": "stream",
     "text": [
      "Starting format:\n",
      "['7, 08, marcus,  abajo  get him down \\n', '7, 08, house,  what you got against chickens  one got choked last night thanks to you \\n', '7, 08, cuddy,  33yearold male with hemoptysis fever \\n', '7, 08, house,  cant we even talk about it \\n', '7, 08, cuddy,  you cant apologize we cant talk  and puncture wounds \\n']\n",
      "\n",
      "Adjusted format:\n",
      "[['marcus', ' abajo  get him down \\n'], ['house', ' what you got against chickens  one got choked last night thanks to you \\n'], ['cuddy', ' 33yearold male with hemoptysis fever \\n'], ['house', ' cant we even talk about it \\n'], ['cuddy', ' you cant apologize we cant talk  and puncture wounds \\n']]\n",
      "\n",
      "Number of lines of speech:\n",
      "52622\n",
      "\n",
      "Represented keys:\n",
      "dict_keys(['cuddy', 'taub', 'wilson', 'kutner', 'foreman', 'house', 'stacy', 'thirteen', 'cameron', 'amber', 'chase'])\n",
      "\n",
      "Lines per speaker:\n",
      "cuddy: 3890\n",
      "taub: 3378\n",
      "wilson: 4843\n",
      "kutner: 988\n",
      "foreman: 6786\n",
      "house: 20915\n",
      "stacy: 484\n",
      "thirteen: 2094\n",
      "cameron: 4126\n",
      "amber: 373\n",
      "chase: 5312\n",
      "\n",
      "\n",
      "Upsampled lines per speaker:\n",
      "cuddy: 20915\n",
      "taub: 20915\n",
      "wilson: 20915\n",
      "kutner: 20915\n",
      "foreman: 20915\n",
      "house: 20915\n",
      "stacy: 20915\n",
      "thirteen: 20915\n",
      "cameron: 20915\n",
      "amber: 20915\n",
      "chase: 20915\n",
      "\n",
      "\n",
      "Number of final lines and a sample:\n",
      "230065\n",
      "['wilson', 'foreman', 'taub', 'taub', 'amber']\n",
      "230065\n",
      "['no tea party \\n', 'i dont want the job house stops walking \\n', 'h', 'this little camera transmits images to the data recorder so we can see if youve got any vascular malformations in your gi tract ryan swallows the pill with some water while taub listens to his chest your records show youve lost some weight over the past year was that intentional \\n', 'last time you used grain alcohol instead of the sambuca \\n']\n",
      "\n",
      "Length of training data and a sample:\n",
      "210065\n",
      "210065\n",
      "['wilson', 'foreman', 'taub', 'taub', 'amber', 'amber', 'amber', 'cuddy', 'stacy', 'thirteen', 'taub', 'cameron', 'amber', 'wilson', 'house', 'chase', 'stacy', 'chase', 'foreman', 'kutner', 'taub', 'cuddy', 'thirteen', 'thirteen', 'foreman', 'stacy', 'kutner', 'cameron', 'thirteen', 'house', 'kutner', 'amber', 'taub', 'chase', 'stacy', 'cuddy', 'stacy', 'house', 'cuddy', 'chase', 'taub', 'cameron', 'amber', 'stacy', 'stacy', 'stacy', 'cameron', 'thirteen', 'kutner', 'foreman']\n",
      "['no tea party \\n', 'i dont want the job house stops walking \\n', 'h', 'this little camera transmits images to the data recorder so we can see if youve got any vascular malformations in your gi tract ryan swallows the pill with some water while taub listens to his chest your records show youve lost some weight over the past year was that intentional \\n', 'last time you used grain alcohol instead of the sambuca \\n', 's', 'not an argument he knows thats not an argument \\n', 'i meant the box \\n', 'am i going to tell him still working on that phrasing how about know all that stuff you were worried about when we first came here honey you were right \\n', ' i dont know what happened \\n', ' if we add those to the symptoms weve seen and the pericardial effusion its lupus \\n', 'youre on his side \\n', 'just keep doing what youre doing it helps then under the stress of blindness and postop fever what do all the symptoms have in common \\n', 'shes the suck up they get into the lift \\n', 'turn it off \\n', 'then youre talking about another surgeon i didnt miss anything \\n', 'we should convene in a meeting of the ethics committee \\n', 'it was probably just some sort of head trauma and we missed the swelling because well his heads already swollen \\n', 'i thought youd gotten past that thats why you agreed to the drug trial you cant give up on life because  \\n', 'lower than normal \\n', 'yeah friendly is a dangerous thing \\n', 'you just solved a case that no one else could solve \\n', 'u', 'i heard you left the trial \\n', 'ok \\n', 'im not running away im going home \\n', 'or we could not cut into her brain its just her pancreas we should do an ercp \\n', 'it cant be genetic mom had none of the same symptoms \\n', 'calling your parents doesnt mean a family reunion you dont even have to see them \\n', 'you showed up to tell me that you dont want to hear from me thats a mixed signal i will choose to listen to your actions rather than your words theyre more honest \\n', 'prednisone could cause roid rage which could cause hypertension which results \\n', 'no skirts \\n', ' ', 'like microwave pizza \\n', 'trenton pests is sending a guy \\n', 'house good i have a case for you \\n', 'it never occurred to me that you couldnt figure out whats wrong  stacy starts to cry and house walks over to hug her \\n', 'always happy to make people happy  goodbye \\n', 'we have our issues but since dad died we tell each other the truth when asked directly its important to us \\n', ' shes already got neurological symptoms  we wait 30 minutes shell definitely have brain damage \\n', 'have you seen his girlfriend extremely hot \\n', 'either youre a nice man or youre an ass either way you did something to somebody that theyre gonna remember \\n', 'honey we cant afford that not with the baby on the way \\n', 'hello oh hi honey im sorry i missed you yeah i came home alright ill see you in a few minutes okay bye hon  \\n', 'o', 'oh now youre introspective werent so analytical the other night beta comment my mom has this saying about a cow and free milk \\n', 'since when does we not include you \\n', 'normally wed try plasmapheresis but the patient has an albumin colloid allergy \\n', 'i meant it must be hard no one there to back you up \\n', 'shouting i dont care what he was going to do he came to us and put his life in our hands \\n']\n"
     ]
    }
   ],
   "source": [
    "#See how the data looks originally\n",
    "print \"Starting format:\"\n",
    "speech_sample = speech[:5]\n",
    "print speech_sample\n",
    "print\n",
    "#Get rid of the season and episode data and split the speaker and the line\n",
    "print \"Adjusted format:\"\n",
    "adjusted_speech = [re.split(\", \", x)[2:] for x in speech]\n",
    "print adjusted_speech[:5]\n",
    "print\n",
    "\n",
    "#Narrow down the list of characters I care about\n",
    "speaker_labels = [\"house\", \"cameron\",\"chase\",\"cuddy\",\"foreman\",\"wilson\", \"thirteen\",\"stacy\",\"amber\",\"kutner\", \"taub\"]\n",
    "main_chars_speech = [x for x in adjusted_speech if x[0] in speaker_labels]\n",
    "print \"Number of lines of speech:\"\n",
    "print len(main_chars_speech)\n",
    "print\n",
    "\n",
    "categorized_speech = {}\n",
    "\n",
    "for line in main_chars_speech:\n",
    "    if line[0] not in categorized_speech:\n",
    "        categorized_speech[line[0]] = list(line[1])\n",
    "    else:\n",
    "        categorized_speech[line[0]].append(line[1])\n",
    "\n",
    "#Sanity check that I'm keeping the lines I want\n",
    "print \"Represented keys:\"\n",
    "print categorized_speech.viewkeys()\n",
    "print\n",
    "print \"Lines per speaker:\"\n",
    "for character in categorized_speech.viewkeys():\n",
    "    print character + \": \" + str(len(categorized_speech[character]))\n",
    "\n",
    "print\n",
    "\n",
    "#Huge class imbalance between speakers so I have to upsample\n",
    "def balance_classes(lineDict):\n",
    "    maxCount = max([len(x) for x in lineDict.viewvalues()])\n",
    "    for character in lineDict.viewkeys():\n",
    "        while len(lineDict[character]) < maxCount:\n",
    "            lineDict[character].append(lineDict[character][rnd.randint(0, len(lineDict[character])-1)])\n",
    "\n",
    "balance_classes(categorized_speech)\n",
    "\n",
    "print            \n",
    "print \"Upsampled lines per speaker:\"\n",
    "for character in categorized_speech.viewkeys():\n",
    "    print character + \": \" + str(len(categorized_speech[character]))\n",
    "print\n",
    "\n",
    "final_speech = []\n",
    "final_labels = []\n",
    "\n",
    "#Shuffle the lines so I don't get a dev_data set of all one character\n",
    "for_shuffling = []\n",
    "\n",
    "for character, lines in categorized_speech.viewitems():\n",
    "    for line in lines:\n",
    "        for_shuffling.append((character, line))\n",
    "        \n",
    "rnd.shuffle(for_shuffling)\n",
    "\n",
    "\n",
    "for character, line in for_shuffling:\n",
    "    final_labels.append(character)\n",
    "    final_speech.append(line)\n",
    "        \n",
    "\n",
    "\n",
    "print\n",
    "print \"Number of final lines and a sample:\"\n",
    "print len(final_labels)\n",
    "print final_labels[:5]\n",
    "print len(final_speech)\n",
    "print final_speech[:5]\n",
    "    \n",
    "    \n",
    "\n",
    "print\n",
    "\n",
    "\n",
    "#usable_speech = np.ndarray(final_speech)\n",
    "#usable_labels = np.ndarray(final_labels)\n",
    "usable_speech = final_speech\n",
    "usable_labels = final_labels\n",
    "\n",
    "test_labels = usable_labels[-20000:-10000]\n",
    "test_data = usable_speech[-20000:-10000]\n",
    "dev_labels = usable_labels[-10000:]\n",
    "dev_data = usable_speech[-10000:]\n",
    "train_labels = usable_labels[:-20000]\n",
    "train_data = usable_speech[:-20000]\n",
    "\n",
    "\n",
    "print \"Length of training data and a sample:\"\n",
    "print len(train_data)\n",
    "print len(train_labels)\n",
    "\n",
    "print train_labels[:50]\n",
    "print train_data[:50]\n"
   ]
  },
  {
   "cell_type": "code",
   "execution_count": 42,
   "metadata": {
    "collapsed": false
   },
   "outputs": [
    {
     "name": "stdout",
     "output_type": "stream",
     "text": [
      "210065\n",
      "210065\n",
      "10000\n",
      "10000\n",
      "10000\n",
      "10000\n"
     ]
    }
   ],
   "source": [
    "print len(train_labels)\n",
    "print len(train_data)\n",
    "print len(dev_labels)\n",
    "print len(dev_data)\n",
    "print len(test_labels)\n",
    "print len(test_data)"
   ]
  },
  {
   "cell_type": "code",
   "execution_count": 48,
   "metadata": {
    "collapsed": false
   },
   "outputs": [],
   "source": [
    "#with unigrams the best I could get was around 60%.  With 1-2grams I get 85.  \n",
    "#I'm scared to test my old busted laptop with trigrams.\n",
    "cv1 = CountVectorizer(ngram_range=(1,2)).fit(train_data)\n",
    "dtm1 = cv1.transform(train_data)\n",
    "\n",
    "tf1 = TfidfVectorizer(ngram_range=(1,2)).fit(train_data)\n",
    "tfidf1 = tf1.transform(train_data)"
   ]
  },
  {
   "cell_type": "code",
   "execution_count": null,
   "metadata": {
    "collapsed": false
   },
   "outputs": [],
   "source": [
    "#This crashes the kernel for some reason\n",
    "#lr1 = LogisticRegression().fit(dtm1, train_labels)\n",
    "#preds = lr1.predict()\n",
    "#print lr1.score(cv1.transform(dev_data), dev_labels)"
   ]
  },
  {
   "cell_type": "code",
   "execution_count": 49,
   "metadata": {
    "collapsed": false
   },
   "outputs": [
    {
     "name": "stdout",
     "output_type": "stream",
     "text": [
      "0.7791\n",
      "0.8298\n",
      "Class counts:\n",
      "[ 19136.  19116.  19085.  19138.  19020.  19079.  19093.  19087.  19083.\n",
      "  19165.  19063.]\n",
      "Feature counts:\n",
      "[[ 0.  0.  0. ...,  0.  0.  0.]\n",
      " [ 0.  0.  0. ...,  0.  0.  0.]\n",
      " [ 0.  0.  0. ...,  0.  0.  0.]\n",
      " ..., \n",
      " [ 9.  9.  0. ...,  0.  0.  0.]\n",
      " [ 0.  0.  0. ...,  0.  0.  0.]\n",
      " [ 0.  0.  3. ...,  0.  0.  0.]]\n",
      "\n",
      "\n",
      "0.7846\n",
      "0.8501\n",
      "Class counts:\n",
      "[ 19136.  19116.  19085.  19138.  19020.  19079.  19093.  19087.  19083.\n",
      "  19165.  19063.]\n",
      "Feature counts:\n",
      "[[ 0.          0.          0.         ...,  0.          0.          0.        ]\n",
      " [ 0.          0.          0.         ...,  0.          0.          0.        ]\n",
      " [ 0.          0.          0.         ...,  0.          0.          0.        ]\n",
      " ..., \n",
      " [ 2.39536692  2.41639455  0.         ...,  0.          0.          0.        ]\n",
      " [ 0.          0.          0.         ...,  0.          0.          0.        ]\n",
      " [ 0.          0.          0.42478196 ...,  0.          0.          0.        ]]\n"
     ]
    }
   ],
   "source": [
    "nb1 = MultinomialNB().fit(dtm1, train_labels)\n",
    "predsNB = nb1.predict(cv1.transform(dev_data))\n",
    "print \"Pre grid search score: \" + str(nb1.score(cv1.transform(dev_data), dev_labels))\n",
    "a = [.01,.02,.03,.04,.05,.06,.07,.08,.09,.1,.2,.3,.4,.5,.6,.7,.8,.9,.99,.999,.9999]\n",
    "nb1_adjusted = GridSearchCV(nb1, {'alpha': a})\n",
    "nb1_adjusted.fit(dtm1, train_labels)\n",
    "print \"Post grid search score: \" + str(nb1_adjusted.score(cv1.transform(dev_data), dev_labels))\n",
    "print \"Class counts:\"\n",
    "print nb1_adjusted.best_estimator_.class_count_\n",
    "print \"Feature counts:\"\n",
    "print nb1_adjusted.best_estimator_.feature_count_\n",
    "\n",
    "print\n",
    "print\n",
    "\n",
    "nb2 = MultinomialNB().fit(tfidf1, train_labels)\n",
    "predsNB2 = nb2.predict(tf1.transform(dev_data))\n",
    "print \"Pre grid search score: \" + str(nb2.score(tf1.transform(dev_data), dev_labels))\n",
    "a = [.01,.02,.03,.04,.05,.06,.07,.08,.09,.1,.2,.3,.4,.5,.6,.7,.8,.9,.99,.999,.9999]\n",
    "nb2_adjusted = GridSearchCV(nb2, {'alpha': a})\n",
    "nb2_adjusted.fit(tfidf1, train_labels)\n",
    "print \"Post grid search score: \"+ str(nb2_adjusted.score(tf1.transform(dev_data), dev_labels))\n",
    "print \"Class counts:\"\n",
    "print nb2_adjusted.best_estimator_.class_count_\n",
    "print \"Feature counts:\"\n",
    "print nb2_adjusted.best_estimator_.feature_count_\n",
    "\n",
    "\n"
   ]
  },
  {
   "cell_type": "code",
   "execution_count": null,
   "metadata": {
    "collapsed": true
   },
   "outputs": [],
   "source": []
  },
  {
   "cell_type": "code",
   "execution_count": 50,
   "metadata": {
    "collapsed": false
   },
   "outputs": [
    {
     "name": "stdout",
     "output_type": "stream",
     "text": [
      "[[762  15  12   8   7   7   4   0   2   7  11]\n",
      " [  0 704  12   4  14  33   4   2   3   4  10]\n",
      " [  0  10 767   5  16  48   4   1   5   1   4]\n",
      " [  1  13  16 787  14  59   3   3  23   8  26]\n",
      " [  0  15  19   2 795  89   5   3   8   7  12]\n",
      " [  0  18  16  13  45 572   2   0  18   5  29]\n",
      " [  0  10  10   7   5   7 835   3   8   9   7]\n",
      " [  0  27  10  14  13  19  12 822  11  11  19]\n",
      " [  0  11   9   5   9  32   2   2 810   0  11]\n",
      " [146  17  17  15  15  19  31  53  32 859  22]\n",
      " [  0  16  11  13  18  51   3   0   8   4 788]]\n"
     ]
    },
    {
     "data": {
      "text/plain": [
       "<matplotlib.text.Text at 0xaf51b10c>"
      ]
     },
     "execution_count": 50,
     "metadata": {},
     "output_type": "execute_result"
    },
    {
     "data": {
      "image/png": "[encoded data removed]",
      "text/plain": [
       "<matplotlib.figure.Figure at 0xb689232c>"
      ]
     },
     "metadata": {},
     "output_type": "display_data"
    }
   ],
   "source": [
    "predsANB2 = nb2_adjusted.predict(tf1.transform(dev_data))\n",
    "probsANB2 = nb2_adjusted.predict_proba(tf1.transform(dev_data))\n",
    "cm_ANB2 = confusion_matrix(predsANB2, dev_labels)\n",
    "print cm_ANB2\n",
    "plt.imshow(cm_ANB2, interpolation = \"nearest\", cmap = plt.cm.Blues)\n",
    "plt.colorbar()\n",
    "tick_marks = np.arange(len(speaker_labels))\n",
    "plt.xticks(tick_marks, speaker_labels, rotation=90)\n",
    "plt.yticks(tick_marks, speaker_labels)\n",
    "plt.tight_layout()\n",
    "plt.ylabel('Predicted label')\n",
    "plt.xlabel('True label')"
   ]
  },
  {
   "cell_type": "code",
   "execution_count": 52,
   "metadata": {
    "collapsed": false,
    "scrolled": false
   },
   "outputs": [
    {
     "name": "stdout",
     "output_type": "stream",
     "text": [
      "===============\n",
      "Actual: house\n",
      "Pred  : cuddy\n",
      "\n",
      "Probs: [ 0.00270399  0.11318028  0.17418507  0.39528124  0.03859254  0.14211852\n",
      "  0.01539849  0.00062657  0.01585692  0.00527216  0.09678422]\n",
      "Text : well of course its not gallstones who thought it was gallstones \n",
      "\n",
      "===============\n",
      "===============\n",
      "Actual: taub\n",
      "Pred  : thirteen\n",
      "\n",
      "Probs: [  2.82634778e-04   2.40314549e-04   2.33340220e-04   2.30334018e-04\n",
      "   8.27451092e-03   2.02964114e-04   4.33024580e-01   2.34697497e-04\n",
      "   4.91320564e-02   5.07917755e-01   2.26813110e-04]\n",
      "Text : sophia \n",
      "\n",
      "===============\n",
      "===============\n",
      "Actual: foreman\n",
      "Pred  : house\n",
      "\n",
      "Probs: [  4.00262577e-06   7.64777223e-02   4.05259763e-02   1.70627481e-03\n",
      "   3.70029538e-02   8.36929254e-01   8.75988281e-05   3.36845967e-06\n",
      "   4.73861099e-03   2.02480648e-03   4.99431611e-04]\n",
      "Text : treatment would cause him to retain fluid with the kidneys almost shut down already hell die \n",
      "\n",
      "===============\n",
      "===============\n",
      "Actual: chase\n",
      "Pred  : cameron\n",
      "\n",
      "Probs: [  1.13035283e-04   7.21551470e-01   2.35088461e-01   2.67465069e-03\n",
      "   8.46508379e-03   2.57281162e-02   5.49347280e-05   6.93449254e-04\n",
      "   1.44480973e-03   2.03996465e-03   2.14602419e-03]\n",
      "Text : did jordan come to your room the other night  \n",
      "\n",
      "===============\n",
      "===============\n",
      "Actual: stacy\n",
      "Pred  : thirteen\n",
      "\n",
      "Probs: [ 0.09109561  0.0910004   0.09085283  0.09110513  0.0905434   0.09082427\n",
      "  0.09089091  0.09086235  0.09084331  0.09123367  0.0907481 ]\n",
      "Text : e\n",
      "===============\n",
      "===============\n",
      "Actual: stacy\n",
      "Pred  : taub\n",
      "\n",
      "Probs: [  1.52669481e-04   7.01709237e-02   1.33235785e-01   4.19726314e-02\n",
      "   1.65711319e-01   8.16751432e-02   1.01861194e-02   1.47447334e-01\n",
      "   1.93399752e-01   1.36084974e-01   1.99633488e-02]\n",
      "Text : so what do we do \n",
      "\n",
      "===============\n",
      "===============\n",
      "Actual: taub\n",
      "Pred  : house\n",
      "\n",
      "Probs: [  8.07720852e-05   6.00598120e-04   1.92239661e-02   3.99670182e-03\n",
      "   1.92095030e-01   3.48277832e-01   1.74576717e-04   1.18485586e-05\n",
      "   2.36086098e-01   1.96289048e-01   3.16352923e-03]\n",
      "Text : im gonna try to stand up \n",
      "\n",
      "===============\n",
      "===============\n",
      "Actual: wilson\n",
      "Pred  : foreman\n",
      "\n",
      "Probs: [  2.60204084e-04   1.24274976e-01   1.07042953e-03   1.07900913e-03\n",
      "   7.88371447e-01   8.23291142e-02   8.21101442e-04   5.23689132e-05\n",
      "   7.28736202e-04   4.71355349e-04   5.41258598e-04]\n",
      "Text : well know more after the test grabs a much bigger needle \n",
      "\n",
      "===============\n",
      "===============\n",
      "Actual: house\n",
      "Pred  : chase\n",
      "\n",
      "Probs: [  9.24461141e-03   1.16239663e-01   3.34418947e-01   2.66731509e-01\n",
      "   1.56241403e-01   1.02501877e-01   1.50592071e-04   7.16833774e-06\n",
      "   9.58716729e-03   4.87024137e-04   4.39003698e-03]\n",
      "Text :  very rare  nice  i like it \n",
      "\n",
      "===============\n",
      "===============\n",
      "Actual: wilson\n",
      "Pred  : taub\n",
      "\n",
      "Probs: [  2.57054745e-06   1.23406230e-04   7.62648753e-04   9.70155147e-04\n",
      "   1.52771377e-03   1.09309865e-03   2.51409390e-05   3.08915813e-05\n",
      "   5.59566796e-01   1.13212484e-03   4.34765453e-01]\n",
      "Text : its 800 in the morning \n",
      "\n",
      "===============\n",
      "===============\n",
      "Actual: kutner\n",
      "Pred  : house\n",
      "\n",
      "Probs: [  1.18457661e-04   8.76158907e-03   3.33039464e-02   1.49335033e-02\n",
      "   2.73073426e-01   4.73010526e-01   5.62855970e-02   2.86174575e-03\n",
      "   8.28806083e-03   2.73588963e-02   1.02004251e-01]\n",
      "Text : that doesnt mean you didnt use it \n",
      "\n",
      "===============\n",
      "===============\n",
      "Actual: house\n",
      "Pred  : cameron\n",
      "\n",
      "Probs: [  8.77792355e-07   9.18696020e-01   1.23038801e-03   1.84310670e-03\n",
      "   1.27262643e-02   4.90953315e-02   3.39263526e-03   1.29870734e-04\n",
      "   1.01597508e-02   8.17230398e-04   1.90852483e-03]\n",
      "Text :  holding up a tuberous plant you know what this is \n",
      "\n",
      "===============\n",
      "===============\n",
      "Actual: amber\n",
      "Pred  : thirteen\n",
      "\n",
      "Probs: [ 0.09109561  0.0910004   0.09085283  0.09110513  0.0905434   0.09082427\n",
      "  0.09089091  0.09086235  0.09084331  0.09123367  0.0907481 ]\n",
      "Text : o\n",
      "===============\n"
     ]
    }
   ],
   "source": [
    "verbose1 = False\n",
    "if verbose1:\n",
    "    predsANB = nb1_adjusted.predict(cv1.transform(dev_data))\n",
    "    probsANB = nb1_adjusted.predict_proba(cv1.transform(dev_data))\n",
    "    for i in range(100):\n",
    "        if (dev_labels[i] != predsANB[i]):\n",
    "            print \"===============\"\n",
    "            print \"Actual: \" + dev_labels[i]\n",
    "            print \"Pred  : \" + predsANB[i]\n",
    "            print speaker_labels\n",
    "            print \"Probs: \" + str(probsANB[i])\n",
    "            print \"Text  \" + dev_data[i]\n",
    "            print \"===============\"\n",
    "        \n",
    "\n",
    "\n",
    "\n",
    "\n",
    "verbose2 = True\n",
    "if verbose2:\n",
    "    for i in range(100):\n",
    "        if (dev_labels[i] != predsANB2[i]):\n",
    "            print \"===============\"\n",
    "            print \"Actual: \" + dev_labels[i]\n",
    "            print \"Pred  : \" + predsANB2[i]\n",
    "            print \n",
    "            print \"Probs: \" + str(probsANB2[i])\n",
    "            print \"Text : \" + dev_data[i]\n",
    "            print \"===============\""
   ]
  },
  {
   "cell_type": "code",
   "execution_count": null,
   "metadata": {
    "collapsed": true
   },
   "outputs": [],
   "source": []
  }
 ],
 "metadata": {
  "kernelspec": {
   "display_name": "Python 2",
   "language": "python",
   "name": "python2"
  },
  "language_info": {
   "codemirror_mode": {
    "name": "ipython",
    "version": 2
   },
   "file_extension": ".py",
   "mimetype": "text/x-python",
   "name": "python",
   "nbconvert_exporter": "python",
   "pygments_lexer": "ipython2",
   "version": "2.7.6"
  }
 },
 "nbformat": 4,
 "nbformat_minor": 0
}
