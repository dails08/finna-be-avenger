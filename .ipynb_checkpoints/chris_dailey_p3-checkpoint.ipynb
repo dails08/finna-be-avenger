{
 "cells": [
  {
   "cell_type": "markdown",
   "metadata": {},
   "source": [
    "# Project 3: Poisonous mushrooms"
   ]
  },
  {
   "cell_type": "markdown",
   "metadata": {},
   "source": [
    "In this project, you'll investigate properties of mushrooms. This classic dataset contains over 8000 observations, where each mushroom is described by a variety of features like color, odor, etc., and the target variable is an indicator for whether the mushroom is poisonous. Since all the observations are categorical, I've binarized the feature space. Look at the feature_names below to see all 126 binary names.\n",
    "\n",
    "You'll start by running PCA to reduce the dimensionality from 126 down to 2 so that you can easily visualize the data. In general, PCA is very useful for visualization (though sklearn.manifold.tsne is known to produce better visualizations). Recall that PCA is a linear transformation. The 1st projected dimension is the linear combination of all 126 original features that captures as much of the variance in the data as possible. The 2nd projected dimension is the linear combination of all 126 original features that captures as much of the remaining variance as possible. The idea of dense low dimensional representations is crucial to machine learning!\n",
    "\n",
    "Once you've projected the data to 2 dimensions, you'll experiment with clustering using KMeans and density estimation with Gaussian Mixture Models. Finally, you'll train a classifier by fitting a GMM for the positive class and a GMM for the negative class, and perform inference by comparing the probabilities output by each model.\n",
    "\n",
    "As always, you're welcome to work on the project in groups and discuss ideas on the course wall, but please prepare your own write-up and write your own code."
   ]
  },
  {
   "cell_type": "code",
   "execution_count": 4,
   "metadata": {
    "collapsed": false
   },
   "outputs": [],
   "source": [
    "%matplotlib inline\n",
    "\n",
    "import numpy as np\n",
    "import matplotlib.pyplot as plt\n",
    "from sklearn import metrics\n",
    "from sklearn.decomposition import PCA\n",
    "from sklearn.cluster import KMeans\n",
    "from sklearn.mixture import GMM\n",
    "from matplotlib.colors import LogNorm"
   ]
  },
  {
   "cell_type": "markdown",
   "metadata": {},
   "source": [
    "Load feature names."
   ]
  },
  {
   "cell_type": "code",
   "execution_count": 5,
   "metadata": {
    "collapsed": false
   },
   "outputs": [
    {
     "name": "stdout",
     "output_type": "stream",
     "text": [
      "Loaded feature names: 126\n"
     ]
    }
   ],
   "source": [
    "feature_names = []\n",
    "with open('mushroom.map') as fmap:\n",
    "    for line in fmap:\n",
    "        [index, name, junk] = line.split()\n",
    "        feature_names.append(name)\n",
    "\n",
    "print 'Loaded feature names:', len(feature_names)"
   ]
  },
  {
   "cell_type": "markdown",
   "metadata": {},
   "source": [
    "Load data. The data is sparse in the input file, but there aren't too many features, so we'll use a dense representation, which is supported by all sklearn objects."
   ]
  },
  {
   "cell_type": "code",
   "execution_count": 6,
   "metadata": {
    "collapsed": false
   },
   "outputs": [
    {
     "name": "stdout",
     "output_type": "stream",
     "text": [
      "(7000, 126) (1124, 126)\n"
     ]
    }
   ],
   "source": [
    "X, Y = [], []\n",
    "\n",
    "with open('mushroom.data') as fdata:\n",
    "    for line in fdata:\n",
    "        items = line.split()\n",
    "        Y.append(int(items.pop(0)))\n",
    "        x = np.zeros(len(feature_names))\n",
    "        for item in items:\n",
    "            feature = int(item.split(':')[0])\n",
    "            x[feature] = 1\n",
    "        X.append(x)\n",
    "\n",
    "# Convert these lists to numpy arrays.\n",
    "X = np.array(X)\n",
    "Y = np.array(Y)\n",
    "\n",
    "# Split into train and test data.\n",
    "train_data, train_labels = X[:7000], Y[:7000]\n",
    "test_data, test_labels = X[7000:], Y[7000:]\n",
    "\n",
    "# Check that the shapes look right.\n",
    "print train_data.shape, test_data.shape"
   ]
  },
  {
   "cell_type": "markdown",
   "metadata": {},
   "source": [
    "(1) Run Principal Components Analysis on the data. Show what fraction of the total variance in the training data is explained by the first k principal components, for k in [1, 50]."
   ]
  },
  {
   "cell_type": "code",
   "execution_count": 21,
   "metadata": {
    "collapsed": false
   },
   "outputs": [
    {
     "name": "stdout",
     "output_type": "stream",
     "text": [
      "[ 0.16404331  0.13323479  0.10173457  0.07063356  0.03866646  0.03680804\n",
      "  0.03128239  0.02733737  0.0261649   0.02230943  0.02048173  0.01868331\n",
      "  0.01734422  0.01684361  0.01518819  0.01508618  0.01429134  0.01412013\n",
      "  0.01325045  0.01146379  0.01071066  0.01065747  0.01040967  0.00993699\n",
      "  0.0090807   0.00869326  0.00795617  0.00775825  0.0073757   0.00700276\n",
      "  0.00641233  0.00614513  0.00572345  0.00533629  0.00525936  0.00502674\n",
      "  0.00499042  0.00455942  0.00452784  0.00439788  0.00419489  0.00397702\n",
      "  0.00370043  0.00359528  0.00338124  0.00298987  0.00272031  0.00235706\n",
      "  0.00221399  0.00204452]\n"
     ]
    }
   ],
   "source": [
    "#def P1():\n",
    "### STUDENT START ###\n",
    "pca_p1 = PCA(n_components = 50)\n",
    "pca_p1.fit(train_data, train_labels)\n",
    "print pca_p1.explained_variance_ratio_\n",
    "\n",
    "### STUDENT END ###\n",
    "\n",
    "#P1()"
   ]
  },
  {
   "cell_type": "markdown",
   "metadata": {},
   "source": [
    "(2) PCA can be very useful for visualizing data. Project the training data down to 2 dimensions and plot it. Show the positive (poisonous) cases in blue and the negative (non-poisonous) in red. Here's a reference for plotting: http://matplotlib.org/users/pyplot_tutorial.html"
   ]
  },
  {
   "cell_type": "code",
   "execution_count": 30,
   "metadata": {
    "collapsed": false
   },
   "outputs": [
    {
     "name": "stdout",
     "output_type": "stream",
     "text": [
      "(7000, 2)\n",
      "[[ 1.05434454  0.89426308]\n",
      " [ 1.44383045  0.08008516]\n",
      " [ 1.54310134  0.28842409]\n",
      " ..., \n",
      " [ 0.84782643  0.5247949 ]\n",
      " [ 1.07204581 -0.23034774]\n",
      " [ 0.47873986  0.9996519 ]]\n",
      "[ 0.16404331  0.13323479]\n",
      "[[  3.29929942e-02   6.72137537e-05   4.21332937e-02  -3.55472180e-03\n",
      "   -7.31074041e-02   1.46862424e-03   6.01322198e-02   2.85038529e-04\n",
      "   -3.58473885e-02  -2.45698699e-02  -2.39168394e-02   6.84430421e-03\n",
      "   -1.26674523e-03   2.17271385e-02  -4.31746379e-04   5.14281010e-03\n",
      "   -4.57951777e-04  -5.83437417e-02   6.51607601e-02  -1.44579884e-02\n",
      "    2.84134667e-01  -2.84134667e-01   4.16059513e-02   4.16059513e-02\n",
      "    6.58085891e-03  -6.80018063e-02  -1.68452417e-01  -1.91252027e-03\n",
      "    2.00351525e-01   1.94372805e-02  -7.12148230e-02   6.26353689e-04\n",
      "    0.00000000e+00  -6.26353689e-04   0.00000000e+00  -4.12686017e-02\n",
      "    4.12686017e-02   0.00000000e+00   1.81410114e-01  -1.81410114e-01\n",
      "    2.76784728e-02   7.91371968e-02  -2.13643073e-01  -2.59130040e-02\n",
      "   -1.74040147e-02   1.84379442e-03   4.48395334e-04   3.28867647e-02\n",
      "    4.02655455e-02   1.36274946e-03   7.41929581e-02  -8.55785405e-04\n",
      "    6.35601295e-03  -6.35601295e-03   8.32906258e-02   5.64097151e-02\n",
      "    0.00000000e+00   5.30132303e-02   0.00000000e+00   1.71446753e-02\n",
      "   -2.09858247e-01   1.65060998e-02  -4.37846107e-04  -2.29985585e-01\n",
      "    2.13917331e-01   1.53318833e-02   1.20568822e-02  -2.25113174e-01\n",
      "    1.97724408e-01  -3.41136708e-02  -3.70149159e-02  -1.91252027e-03\n",
      "    5.38069723e-02   1.58710102e-03  -1.00550209e-01   1.08018653e-03\n",
      "    1.17485614e-01  -3.68557575e-04  -3.87262460e-02  -3.43559021e-02\n",
      "   -1.91252027e-03   5.44433832e-02   1.58710102e-03  -1.02749328e-01\n",
      "    1.23060000e-03   1.22106179e-01  -1.62326737e-03   0.00000000e+00\n",
      "    0.00000000e+00   7.68655007e-04   8.18446012e-04  -1.21854344e-03\n",
      "   -3.68557575e-04  -1.91252027e-03  -1.11736825e-02   1.30862028e-02\n",
      "    0.00000000e+00  -1.86544469e-01  -1.17577176e-03  -1.07096764e-01\n",
      "   -1.91252027e-03   2.96729525e-01   0.00000000e+00   0.00000000e+00\n",
      "    1.45924654e-01   1.52073622e-01   2.83946634e-04  -9.52017455e-02\n",
      "    5.24483949e-03   2.55052624e-04   3.41489820e-03  -2.12193317e-01\n",
      "    1.98050102e-04   1.35936396e-02   2.67698003e-03   3.01471770e-02\n",
      "    7.83465391e-02  -1.71640890e-01   4.68765542e-02   5.45329261e-02\n",
      "   -7.06600401e-02   3.18666357e-02  -1.01872523e-01   2.08408464e-02\n",
      "    3.05399139e-03   6.22381632e-02]\n",
      " [  5.97133795e-03   1.62057217e-04  -3.56278049e-02  -3.89557745e-02\n",
      "    6.70355512e-02   1.41463312e-03  -1.06013064e-01   2.68842482e-04\n",
      "   -5.40000481e-02   1.59744269e-01   1.22529012e-01   5.34402317e-06\n",
      "    1.79216268e-04  -1.24629185e-01   1.37803350e-04   3.04985419e-03\n",
      "    1.44295100e-04   7.76285397e-02   4.50684953e-02  -1.24113375e-01\n",
      "   -1.34573920e-02   1.34573920e-02   2.07025044e-03   2.07025044e-03\n",
      "    3.16433730e-03   5.93220879e-02  -2.06950421e-01  -1.97088793e-03\n",
      "    6.22861204e-02   1.74409671e-02   6.25672951e-02   3.76111570e-03\n",
      "    0.00000000e+00  -3.76111570e-03   0.00000000e+00  -8.96600146e-02\n",
      "    8.96600146e-02   0.00000000e+00  -2.07048624e-01   2.07048624e-01\n",
      "    2.54116720e-02   2.03954227e-02   1.71994776e-01  -6.93846882e-02\n",
      "   -8.02167854e-02  -1.21829271e-04   1.49161912e-03  -7.17810019e-02\n",
      "   -8.05745157e-03   5.16144431e-03   4.45737894e-03   6.49443517e-04\n",
      "   -2.03608567e-01   2.03608567e-01  -2.84118587e-01   1.38804552e-03\n",
      "    0.00000000e+00   9.18058810e-02   0.00000000e+00  -5.30677644e-03\n",
      "    1.96231437e-01   2.93196525e-02  -7.80210219e-04  -1.73119567e-01\n",
      "    1.44580125e-01   3.00886809e-02  -7.06389140e-03  -1.72047783e-01\n",
      "    1.49022993e-01  -8.24206286e-02  -8.86101189e-02  -1.97088793e-03\n",
      "   -1.58300463e-02   4.73950555e-03  -1.64679966e-02   3.91642062e-03\n",
      "    1.96461872e-01   1.81879909e-04  -8.28704791e-02  -8.21632337e-02\n",
      "   -1.97088793e-03  -1.59095347e-02   4.73950555e-03  -2.00913537e-02\n",
      "    4.50908245e-03   1.93052542e-01   7.04359083e-04   0.00000000e+00\n",
      "    0.00000000e+00   2.34529575e-03   2.39420980e-03  -4.92138546e-03\n",
      "    1.81879909e-04  -1.97088793e-03  -1.46716377e-02   1.66425256e-02\n",
      "    0.00000000e+00   2.55430717e-01   4.61589087e-04  -2.49673611e-01\n",
      "   -1.97088793e-03  -4.24780653e-03   0.00000000e+00   0.00000000e+00\n",
      "    2.78667825e-02   3.20295745e-02   1.23369556e-03  -2.56594224e-01\n",
      "   -3.98953016e-04   1.17215984e-03   3.06955489e-03   1.90771851e-01\n",
      "    8.49559042e-04   3.49848480e-02   1.08412736e-02   4.80686474e-03\n",
      "    4.65636478e-02   6.46581577e-02  -1.61854792e-01  -1.12329385e-03\n",
      "    6.55273750e-02   1.45086888e-03  -2.64509696e-02   8.93244500e-03\n",
      "    9.89199854e-03  -5.82284240e-02]]\n"
     ]
    },
    {
     "data": {
      "image/png": "[encoded data removed]",
      "text/plain": [
       "<matplotlib.figure.Figure at 0xaf7973ec>"
      ]
     },
     "metadata": {},
     "output_type": "display_data"
    }
   ],
   "source": [
    "#def P2():\n",
    "### STUDENT START ###\n",
    "\n",
    "pca_p2 = PCA(n_components = 2).fit(train_data, train_labels)\n",
    "data_reduced = pca_p2.transform(train_data)\n",
    "\n",
    "print data_reduced.shape\n",
    "print data_reduced\n",
    "print pca_p2.explained_variance_ratio_\n",
    "print pca_p2.components_\n",
    "\n",
    "x_reduced = [x[0] for x in data_reduced]\n",
    "y_reduced = [x[1] for x in data_reduced]\n",
    "\n",
    "\n",
    "plt.scatter(x_reduced, y_reduced, c = train_labels)\n",
    "plt.show()\n",
    "\n",
    "### STUDENT END ###\n",
    "\n",
    "#P2()"
   ]
  },
  {
   "cell_type": "markdown",
   "metadata": {},
   "source": [
    "(3) Run KMeans with [1,16] clusters over the 2d projected data. Mark each centroid cluster and plot a circle that goes through the most distant point assigned to each cluster."
   ]
  },
  {
   "cell_type": "code",
   "execution_count": 3,
   "metadata": {
    "collapsed": false
   },
   "outputs": [],
   "source": [
    "#def P3():\n",
    "### STUDENT START ###\n",
    "\n",
    "### STUDENT END ###\n",
    "\n",
    "#P3()"
   ]
  },
  {
   "cell_type": "markdown",
   "metadata": {},
   "source": [
    "(4) Fit a Gaussian Mixture Model for the positive examples in your 2d projected data. Plot the estimated density contours as shown here: http://scikit-learn.org/stable/auto_examples/mixture/plot_gmm_pdf.html#example-mixture-plot-gmm-pdf-py. Vary the number of mixture components from 1-4 and the covariance matrix type ('spherical', 'diag', 'tied', 'full')."
   ]
  },
  {
   "cell_type": "code",
   "execution_count": 4,
   "metadata": {
    "collapsed": false
   },
   "outputs": [],
   "source": [
    "#def P4():\n",
    "### STUDENT START ###\n",
    "\n",
    "### STUDENT END ###\n",
    "\n",
    "#P4()"
   ]
  },
  {
   "cell_type": "markdown",
   "metadata": {},
   "source": [
    "(5) Fit two 4-component full covariance GMMs, one for the positive examples and one for the negative examples in your 2d projected data. Predict the test examples by choosing the label for which the model gives a larger probability (use GMM.score). What is the accuracy?"
   ]
  },
  {
   "cell_type": "code",
   "execution_count": 5,
   "metadata": {
    "collapsed": false
   },
   "outputs": [],
   "source": [
    "#def P5():\n",
    "### STUDENT START ###\n",
    "\n",
    "### STUDENT END ###\n",
    "\n",
    "#P5()"
   ]
  },
  {
   "cell_type": "markdown",
   "metadata": {},
   "source": [
    "(6) Ideally, we'd like a model that gives the best accuracy with the fewest parameters. Run a series of experiments to find the model that gives the best accuracy with no more than 50 parameters. For example, with 3 PCA components and 2-component diagonal covariance GMMs, you'd have:\n",
    "\n",
    "( (3 mean vector + 3 covariance matrix) x 2 components ) x 2 classes = 24 parameters\n",
    "\n",
    "You should vary the number of PCA components, the number of GMM components, and the covariance type."
   ]
  },
  {
   "cell_type": "code",
   "execution_count": 6,
   "metadata": {
    "collapsed": false
   },
   "outputs": [],
   "source": [
    "#def P6():\n",
    "### STUDENT START ###\n",
    "\n",
    "### STUDENT END ###\n",
    "\n",
    "#P6()"
   ]
  },
  {
   "cell_type": "code",
   "execution_count": null,
   "metadata": {
    "collapsed": true
   },
   "outputs": [],
   "source": []
  }
 ],
 "metadata": {
  "kernelspec": {
   "display_name": "Python 2",
   "language": "python",
   "name": "python2"
  },
  "language_info": {
   "codemirror_mode": {
    "name": "ipython",
    "version": 2
   },
   "file_extension": ".py",
   "mimetype": "text/x-python",
   "name": "python",
   "nbconvert_exporter": "python",
   "pygments_lexer": "ipython2",
   "version": "2.7.6"
  }
 },
 "nbformat": 4,
 "nbformat_minor": 0
}
