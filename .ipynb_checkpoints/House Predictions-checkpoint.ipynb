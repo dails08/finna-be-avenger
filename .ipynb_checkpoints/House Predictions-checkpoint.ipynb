{
 "cells": [
  {
   "cell_type": "code",
   "execution_count": 21,
   "metadata": {
    "collapsed": true
   },
   "outputs": [],
   "source": [
    "# This tells matplotlib not to try opening a new window for each plot.\n",
    "%matplotlib inline\n",
    "\n",
    "# General libraries.\n",
    "import re\n",
    "import random as rnd\n",
    "import numpy as np\n",
    "import matplotlib.pyplot as plt\n",
    "import string\n",
    "\n",
    "# SK-learn libraries for learning.\n",
    "from sklearn.pipeline import Pipeline\n",
    "from sklearn.neighbors import KNeighborsClassifier\n",
    "from sklearn.linear_model import LogisticRegression\n",
    "from sklearn.naive_bayes import BernoulliNB\n",
    "from sklearn.naive_bayes import MultinomialNB\n",
    "from sklearn.grid_search import GridSearchCV\n",
    "\n",
    "# SK-learn libraries for evaluation.\n",
    "from sklearn.metrics import confusion_matrix\n",
    "from sklearn import metrics\n",
    "from sklearn.metrics import classification_report\n",
    "\n",
    "# SK-learn libraries for feature extraction from text.\n",
    "from sklearn.feature_extraction.text import *"
   ]
  },
  {
   "cell_type": "code",
   "execution_count": 22,
   "metadata": {
    "collapsed": false
   },
   "outputs": [
    {
     "name": "stdout",
     "output_type": "stream",
     "text": [
      "71211\n",
      "71211\n"
     ]
    }
   ],
   "source": [
    "#speech data comes from a previous project\n",
    "speech = open(\"speech.txt\").readlines()\n",
    "print len(speech)\n",
    "#This line gets rid of some pesky charactesr like smart quotes or the ellipsis character (...)\n",
    "#If I don't remove them the vectorizers freak out\n",
    "speech = [filter(lambda x: x in string.printable, s) for s in speech]\n",
    "print len(speech)\n"
   ]
  },
  {
   "cell_type": "code",
   "execution_count": 23,
   "metadata": {
    "collapsed": false
   },
   "outputs": [
    {
     "name": "stdout",
     "output_type": "stream",
     "text": [
      "['7, 08, marcus,  abajo  get him down \\n', '7, 08, house,  what you got against chickens  one got choked last night thanks to you \\n', '7, 08, cuddy,  33yearold male with hemoptysis fever \\n', '7, 08, house,  cant we even talk about it \\n', '7, 08, cuddy,  you cant apologize we cant talk  and puncture wounds \\n']\n"
     ]
    }
   ],
   "source": [
    "print speech[:5]"
   ]
  },
  {
   "cell_type": "code",
   "execution_count": 57,
   "metadata": {
    "collapsed": false,
    "scrolled": true
   },
   "outputs": [
    {
     "name": "stdout",
     "output_type": "stream",
     "text": [
      "Starting format:\n",
      "['7, 08, marcus,  abajo  get him down \\n', '7, 08, house,  what you got against chickens  one got choked last night thanks to you \\n', '7, 08, cuddy,  33yearold male with hemoptysis fever \\n', '7, 08, house,  cant we even talk about it \\n', '7, 08, cuddy,  you cant apologize we cant talk  and puncture wounds \\n']\n",
      "\n",
      "Adjusted format:\n",
      "[['marcus', ' abajo  get him down \\n'], ['house', ' what you got against chickens  one got choked last night thanks to you \\n'], ['cuddy', ' 33yearold male with hemoptysis fever \\n'], ['house', ' cant we even talk about it \\n'], ['cuddy', ' you cant apologize we cant talk  and puncture wounds \\n']]\n",
      "\n",
      "Number of lines of speech:\n",
      "52622\n",
      "\n",
      "Represented keys:\n",
      "dict_keys(['cuddy', 'taub', 'wilson', 'kutner', 'foreman', 'house', 'stacy', 'thirteen', 'cameron', 'amber', 'chase'])\n",
      "\n",
      "Lines per speaker:\n",
      "cuddy: 3890\n",
      "taub: 3378\n",
      "wilson: 4843\n",
      "kutner: 988\n",
      "foreman: 6786\n",
      "house: 20915\n",
      "stacy: 484\n",
      "thirteen: 2094\n",
      "cameron: 4126\n",
      "amber: 373\n",
      "chase: 5312\n",
      "\n",
      "\n",
      "Upsampled lines per speaker:\n",
      "cuddy: 20915\n",
      "taub: 20915\n",
      "wilson: 20915\n",
      "kutner: 20915\n",
      "foreman: 20915\n",
      "house: 20915\n",
      "stacy: 20915\n",
      "thirteen: 20915\n",
      "cameron: 20915\n",
      "amber: 20915\n",
      "chase: 20915\n",
      "\n",
      "\n",
      "Number of final lines and a sample:\n",
      "230065\n",
      "['wilson', 'foreman', 'taub', 'taub', 'amber']\n",
      "230065\n",
      "['no tea party \\n', 'i dont want the job house stops walking \\n', 'h', 'this little camera transmits images to the data recorder so we can see if youve got any vascular malformations in your gi tract ryan swallows the pill with some water while taub listens to his chest your records show youve lost some weight over the past year was that intentional \\n', 'last time you used grain alcohol instead of the sambuca \\n']\n",
      "\n",
      "Length of training data and a sample:\n",
      "210065\n",
      "210065\n",
      "['wilson', 'foreman', 'taub', 'taub', 'amber', 'amber', 'amber', 'cuddy', 'stacy', 'thirteen', 'taub', 'cameron', 'amber', 'wilson', 'house', 'chase', 'stacy', 'chase', 'foreman', 'kutner', 'taub', 'cuddy', 'thirteen', 'thirteen', 'foreman', 'stacy', 'kutner', 'cameron', 'thirteen', 'house', 'kutner', 'amber', 'taub', 'chase', 'stacy', 'cuddy', 'stacy', 'house', 'cuddy', 'chase', 'taub', 'cameron', 'amber', 'stacy', 'stacy', 'stacy', 'cameron', 'thirteen', 'kutner', 'foreman']\n",
      "['no tea party \\n', 'i dont want the job house stops walking \\n', 'h', 'this little camera transmits images to the data recorder so we can see if youve got any vascular malformations in your gi tract ryan swallows the pill with some water while taub listens to his chest your records show youve lost some weight over the past year was that intentional \\n', 'last time you used grain alcohol instead of the sambuca \\n', 's', 'not an argument he knows thats not an argument \\n', 'i meant the box \\n', 'am i going to tell him still working on that phrasing how about know all that stuff you were worried about when we first came here honey you were right \\n', ' i dont know what happened \\n', ' if we add those to the symptoms weve seen and the pericardial effusion its lupus \\n', 'youre on his side \\n', 'just keep doing what youre doing it helps then under the stress of blindness and postop fever what do all the symptoms have in common \\n', 'shes the suck up they get into the lift \\n', 'turn it off \\n', 'then youre talking about another surgeon i didnt miss anything \\n', 'we should convene in a meeting of the ethics committee \\n', 'it was probably just some sort of head trauma and we missed the swelling because well his heads already swollen \\n', 'i thought youd gotten past that thats why you agreed to the drug trial you cant give up on life because  \\n', 'lower than normal \\n', 'yeah friendly is a dangerous thing \\n', 'you just solved a case that no one else could solve \\n', 'u', 'i heard you left the trial \\n', 'ok \\n', 'im not running away im going home \\n', 'or we could not cut into her brain its just her pancreas we should do an ercp \\n', 'it cant be genetic mom had none of the same symptoms \\n', 'calling your parents doesnt mean a family reunion you dont even have to see them \\n', 'you showed up to tell me that you dont want to hear from me thats a mixed signal i will choose to listen to your actions rather than your words theyre more honest \\n', 'prednisone could cause roid rage which could cause hypertension which results \\n', 'no skirts \\n', ' ', 'like microwave pizza \\n', 'trenton pests is sending a guy \\n', 'house good i have a case for you \\n', 'it never occurred to me that you couldnt figure out whats wrong  stacy starts to cry and house walks over to hug her \\n', 'always happy to make people happy  goodbye \\n', 'we have our issues but since dad died we tell each other the truth when asked directly its important to us \\n', ' shes already got neurological symptoms  we wait 30 minutes shell definitely have brain damage \\n', 'have you seen his girlfriend extremely hot \\n', 'either youre a nice man or youre an ass either way you did something to somebody that theyre gonna remember \\n', 'honey we cant afford that not with the baby on the way \\n', 'hello oh hi honey im sorry i missed you yeah i came home alright ill see you in a few minutes okay bye hon  \\n', 'o', 'oh now youre introspective werent so analytical the other night beta comment my mom has this saying about a cow and free milk \\n', 'since when does we not include you \\n', 'normally wed try plasmapheresis but the patient has an albumin colloid allergy \\n', 'i meant it must be hard no one there to back you up \\n', 'shouting i dont care what he was going to do he came to us and put his life in our hands \\n']\n"
     ]
    }
   ],
   "source": [
    "#See how the data looks originally\n",
    "print \"Starting format:\"\n",
    "speech_sample = speech[:5]\n",
    "print speech_sample\n",
    "print\n",
    "#Get rid of the season and episode data and split the speaker and the line\n",
    "print \"Adjusted format:\"\n",
    "adjusted_speech = [re.split(\", \", x)[2:] for x in speech]\n",
    "print adjusted_speech[:5]\n",
    "print\n",
    "\n",
    "#Narrow down the list of characters I care about\n",
    "speaker_labels = [\"house\", \"cameron\",\"chase\",\"cuddy\",\"foreman\",\"wilson\", \"thirteen\",\"stacy\",\"amber\",\"kutner\", \"taub\"]\n",
    "main_chars_speech = [x for x in adjusted_speech if x[0] in speaker_labels]\n",
    "print \"Number of lines of speech:\"\n",
    "print len(main_chars_speech)\n",
    "print\n",
    "\n",
    "categorized_speech = {}\n",
    "\n",
    "for line in main_chars_speech:\n",
    "    if line[0] not in categorized_speech:\n",
    "        categorized_speech[line[0]] = list(line[1])\n",
    "    else:\n",
    "        categorized_speech[line[0]].append(line[1])\n",
    "\n",
    "#Sanity check that I'm keeping the lines I want\n",
    "print \"Represented keys:\"\n",
    "print categorized_speech.viewkeys()\n",
    "print\n",
    "print \"Lines per speaker:\"\n",
    "for character in categorized_speech.viewkeys():\n",
    "    print character + \": \" + str(len(categorized_speech[character]))\n",
    "\n",
    "print\n",
    "\n",
    "#Huge class imbalance between speakers so I have to upsample\n",
    "def balance_classes(lineDict):\n",
    "    maxCount = max([len(x) for x in lineDict.viewvalues()])\n",
    "    for character in lineDict.viewkeys():\n",
    "        while len(lineDict[character]) < maxCount:\n",
    "            lineDict[character].append(lineDict[character][rnd.randint(0, len(lineDict[character])-1)])\n",
    "\n",
    "balance_classes(categorized_speech)\n",
    "\n",
    "print            \n",
    "print \"Upsampled lines per speaker:\"\n",
    "for character in categorized_speech.viewkeys():\n",
    "    print character + \": \" + str(len(categorized_speech[character]))\n",
    "print\n",
    "\n",
    "final_speech = []\n",
    "final_labels = []\n",
    "\n",
    "#Shuffle the lines so I don't get a dev_data set of all one character\n",
    "for_shuffling = []\n",
    "\n",
    "for character, lines in categorized_speech.viewitems():\n",
    "    for line in lines:\n",
    "        for_shuffling.append((character, line))\n",
    "        \n",
    "rnd.shuffle(for_shuffling)\n",
    "\n",
    "\n",
    "for character, line in for_shuffling:\n",
    "    final_labels.append(character)\n",
    "    final_speech.append(line)\n",
    "        \n",
    "\n",
    "\n",
    "print\n",
    "print \"Number of final lines and a sample:\"\n",
    "print len(final_labels)\n",
    "print final_labels[:5]\n",
    "print len(final_speech)\n",
    "print final_speech[:5]\n",
    "    \n",
    "    \n",
    "\n",
    "print\n",
    "\n",
    "\n",
    "#usable_speech = np.ndarray(final_speech)\n",
    "#usable_labels = np.ndarray(final_labels)\n",
    "usable_speech = final_speech\n",
    "usable_labels = final_labels\n",
    "\n",
    "test_labels = usable_labels[-20000:-10000]\n",
    "test_data = usable_speech[-20000:-10000]\n",
    "dev_labels = usable_labels[-10000:]\n",
    "dev_data = usable_speech[-10000:]\n",
    "train_labels = usable_labels[:-20000]\n",
    "train_data = usable_speech[:-20000]\n",
    "\n",
    "\n",
    "print \"Length of training data and a sample:\"\n",
    "print len(train_data)\n",
    "print len(train_labels)\n",
    "\n",
    "print train_labels[:50]\n",
    "print train_data[:50]\n"
   ]
  },
  {
   "cell_type": "code",
   "execution_count": 58,
   "metadata": {
    "collapsed": false
   },
   "outputs": [
    {
     "name": "stdout",
     "output_type": "stream",
     "text": [
      "210065\n",
      "210065\n",
      "10000\n",
      "10000\n",
      "10000\n",
      "10000\n"
     ]
    }
   ],
   "source": [
    "print len(train_labels)\n",
    "print len(train_data)\n",
    "print len(dev_labels)\n",
    "print len(dev_data)\n",
    "print len(test_labels)\n",
    "print len(test_data)"
   ]
  },
  {
   "cell_type": "code",
   "execution_count": 59,
   "metadata": {
    "collapsed": false
   },
   "outputs": [],
   "source": [
    "#with unigrams the best I could get was around 60%.  With 1-2grams I get 85.  \n",
    "#I'm scared to test my old busted laptop with trigrams.\n",
    "cv1 = CountVectorizer(ngram_range=(1,2)).fit(train_data)\n",
    "dtm1 = cv1.transform(train_data)\n",
    "\n",
    "tf1 = TfidfVectorizer(ngram_range=(1,2)).fit(train_data)\n",
    "tfidf1 = tf1.transform(train_data)"
   ]
  },
  {
   "cell_type": "code",
   "execution_count": null,
   "metadata": {
    "collapsed": false
   },
   "outputs": [],
   "source": [
    "#This crashes the kernel for some reason\n",
    "#lr1 = LogisticRegression().fit(dtm1, train_labels)\n",
    "#preds = lr1.predict()\n",
    "#print lr1.score(cv1.transform(dev_data), dev_labels)"
   ]
  },
  {
   "cell_type": "code",
   "execution_count": 60,
   "metadata": {
    "collapsed": false
   },
   "outputs": [
    {
     "name": "stdout",
     "output_type": "stream",
     "text": [
      "Pre grid search score: 0.7711\n",
      "Post grid search score: 0.8199\n",
      "Class counts:\n",
      "[ 19111.  19118.  19072.  19089.  19105.  19099.  19067.  19107.  19078.\n",
      "  19051.  19168.]\n",
      "Feature counts:\n",
      "[[ 0.  0.  0. ...,  0.  0.  0.]\n",
      " [ 0.  0.  0. ...,  0.  0.  0.]\n",
      " [ 0.  0.  0. ...,  0.  0.  0.]\n",
      " ..., \n",
      " [ 1.  1.  0. ...,  0.  0.  0.]\n",
      " [ 0.  0.  0. ...,  0.  0.  0.]\n",
      " [ 0.  0.  4. ...,  0.  0.  0.]]\n",
      "\n",
      "\n",
      "Pre grid search score: 0.782\n",
      "Post grid search score: 0.8428\n",
      "Class counts:\n",
      "[ 19111.  19118.  19072.  19089.  19105.  19099.  19067.  19107.  19078.\n",
      "  19051.  19168.]\n",
      "Feature counts:\n",
      "[[ 0.          0.          0.         ...,  0.          0.          0.        ]\n",
      " [ 0.          0.          0.         ...,  0.          0.          0.        ]\n",
      " [ 0.          0.          0.         ...,  0.          0.          0.        ]\n",
      " ..., \n",
      " [ 0.27772129  0.28698429  0.         ...,  0.          0.          0.        ]\n",
      " [ 0.          0.          0.         ...,  0.          0.          0.        ]\n",
      " [ 0.          0.          0.55813072 ...,  0.          0.          0.        ]]\n"
     ]
    }
   ],
   "source": [
    "nb1 = MultinomialNB().fit(dtm1, train_labels)\n",
    "predsNB = nb1.predict(cv1.transform(dev_data))\n",
    "print \"Pre grid search score: \" + str(nb1.score(cv1.transform(dev_data), dev_labels))\n",
    "a = [.01,.02,.03,.04,.05,.06,.07,.08,.09,.1,.2,.3,.4,.5,.6,.7,.8,.9,.99,.999,.9999]\n",
    "nb1_adjusted = GridSearchCV(nb1, {'alpha': a})\n",
    "nb1_adjusted.fit(dtm1, train_labels)\n",
    "print \"Post grid search score: \" + str(nb1_adjusted.score(cv1.transform(dev_data), dev_labels))\n",
    "print \"Class counts:\"\n",
    "print nb1_adjusted.best_estimator_.class_count_\n",
    "print \"Feature counts:\"\n",
    "print nb1_adjusted.best_estimator_.feature_count_\n",
    "\n",
    "print\n",
    "print\n",
    "\n",
    "nb2 = MultinomialNB().fit(tfidf1, train_labels)\n",
    "predsNB2 = nb2.predict(tf1.transform(dev_data))\n",
    "print \"Pre grid search score: \" + str(nb2.score(tf1.transform(dev_data), dev_labels))\n",
    "a = [.01,.02,.03,.04,.05,.06,.07,.08,.09,.1,.2,.3,.4,.5,.6,.7,.8,.9,.99,.999,.9999]\n",
    "nb2_adjusted = GridSearchCV(nb2, {'alpha': a})\n",
    "nb2_adjusted.fit(tfidf1, train_labels)\n",
    "print \"Post grid search score: \"+ str(nb2_adjusted.score(tf1.transform(dev_data), dev_labels))\n",
    "print \"Class counts:\"\n",
    "print nb2_adjusted.best_estimator_.class_count_\n",
    "print \"Feature counts:\"\n",
    "print nb2_adjusted.best_estimator_.feature_count_\n",
    "\n",
    "\n"
   ]
  },
  {
   "cell_type": "code",
   "execution_count": null,
   "metadata": {
    "collapsed": true
   },
   "outputs": [],
   "source": []
  },
  {
   "cell_type": "code",
   "execution_count": 61,
   "metadata": {
    "collapsed": false
   },
   "outputs": [
    {
     "name": "stdout",
     "output_type": "stream",
     "text": [
      "[[737   4   3   5   6   9   4   7   6   3   9]\n",
      " [  3 791  15   5  19  36   2   2   4   4  11]\n",
      " [  0  10 784   6  19  48   3   0   5   1  13]\n",
      " [  5  18  20 802  32  46   8   9  18  13  26]\n",
      " [  3  17  15  12 726  65   5   0   9   4   5]\n",
      " [  0  18  25  19  41 539   0   1  12   7  31]\n",
      " [  0   8   9   4   5  13 850   1   8   2  11]\n",
      " [  0  18   9  21  15  21   4 850  12  11  16]\n",
      " [  0   8   6   3  10  42   3   0 799   3   6]\n",
      " [  1   6   7   6   9  19   1   1   6 812  12]\n",
      " [166  20  25  22  15  67  24  46  49  55 738]]\n"
     ]
    },
    {
     "data": {
      "text/plain": [
       "<matplotlib.text.Text at 0xa3863e0c>"
      ]
     },
     "execution_count": 61,
     "metadata": {},
     "output_type": "execute_result"
    },
    {
     "data": {
      "image/png": "[encoded data removed]",
      "text/plain": [
       "<matplotlib.figure.Figure at 0xadb31e8c>"
      ]
     },
     "metadata": {},
     "output_type": "display_data"
    }
   ],
   "source": [
    "predsANB2 = nb2_adjusted.predict(tf1.transform(dev_data))\n",
    "probsANB2 = nb2_adjusted.predict_proba(tf1.transform(dev_data))\n",
    "cm_ANB2 = confusion_matrix(predsANB2, dev_labels)\n",
    "print cm_ANB2\n",
    "plt.imshow(cm_ANB2, interpolation = \"nearest\", cmap = plt.cm.Blues)\n",
    "plt.colorbar()\n",
    "tick_marks = np.arange(len(speaker_labels))\n",
    "plt.xticks(tick_marks, speaker_labels, rotation=90)\n",
    "plt.yticks(tick_marks, speaker_labels)\n",
    "plt.tight_layout()\n",
    "plt.ylabel('Predicted label')\n",
    "plt.xlabel('True label')"
   ]
  },
  {
   "cell_type": "code",
   "execution_count": 62,
   "metadata": {
    "collapsed": false,
    "scrolled": false
   },
   "outputs": [
    {
     "name": "stdout",
     "output_type": "stream",
     "text": [
      "===============\n",
      "Actual: amber\n",
      "Pred  : wilson\n",
      "\n",
      "Probs: [ 0.0909766   0.09100993  0.09079095  0.09087187  0.09094804  0.09091948\n",
      "  0.09076714  0.09095756  0.09081951  0.09069098  0.09124795]\n",
      "Text :  \n",
      "===============\n",
      "===============\n",
      "Actual: foreman\n",
      "Pred  : wilson\n",
      "\n",
      "Probs: [  6.30361903e-05   6.85311411e-04   3.96856455e-03   2.46279884e-03\n",
      "   5.12802621e-03   7.35181428e-02   5.54728411e-04   1.61631773e-05\n",
      "   3.54077992e-03   1.46942092e-02   8.95368239e-01]\n",
      "Text : a little  what drugs have you taken recently \n",
      "\n",
      "===============\n",
      "===============\n",
      "Actual: chase\n",
      "Pred  : amber\n",
      "\n",
      "Probs: [ 0.33787906  0.08654369  0.04898327  0.05203257  0.0159056   0.09098944\n",
      "  0.00129447  0.00463296  0.02046319  0.2911239   0.05015186]\n",
      "Text : im not an idiot \n",
      "\n",
      "===============\n",
      "===============\n",
      "Actual: stacy\n",
      "Pred  : wilson\n",
      "\n",
      "Probs: [ 0.0909766   0.09100993  0.09079095  0.09087187  0.09094804  0.09091948\n",
      "  0.09076714  0.09095756  0.09081951  0.09069098  0.09124795]\n",
      "Text :  \n",
      "===============\n",
      "===============\n",
      "Actual: kutner\n",
      "Pred  : wilson\n",
      "\n",
      "Probs: [ 0.0909766   0.09100993  0.09079095  0.09087187  0.09094804  0.09091948\n",
      "  0.09076714  0.09095756  0.09081951  0.09069098  0.09124795]\n",
      "Text : b\n",
      "===============\n",
      "===============\n",
      "Actual: amber\n",
      "Pred  : wilson\n",
      "\n",
      "Probs: [ 0.0909766   0.09100993  0.09079095  0.09087187  0.09094804  0.09091948\n",
      "  0.09076714  0.09095756  0.09081951  0.09069098  0.09124795]\n",
      "Text :  \n",
      "===============\n",
      "===============\n",
      "Actual: cuddy\n",
      "Pred  : house\n",
      "\n",
      "Probs: [  3.32399035e-04   1.58095250e-03   1.32559590e-01   1.92335122e-02\n",
      "   9.62848609e-02   7.10766207e-01   6.92333326e-05   5.09768450e-04\n",
      "   2.27680275e-02   8.32358906e-03   7.57186037e-03]\n",
      "Text : house for better or for worse you are a part of my life it isnt a ploy its a sincere invitation i honestly want you to come \n",
      "\n",
      "===============\n",
      "===============\n",
      "Actual: cameron\n",
      "Pred  : stacy\n",
      "\n",
      "Probs: [ 0.00894744  0.10542801  0.09562774  0.05913426  0.1009542   0.1039823\n",
      "  0.05722457  0.15579186  0.07182919  0.09213268  0.14894775]\n",
      "Text : yeah \n",
      "\n",
      "===============\n",
      "===============\n",
      "Actual: cameron\n",
      "Pred  : amber\n",
      "\n",
      "Probs: [ 0.21448265  0.08287899  0.08021465  0.07869318  0.0873744   0.07567977\n",
      "  0.05287611  0.13728362  0.06673236  0.04681852  0.07696574]\n",
      "Text : right \n",
      "\n",
      "===============\n",
      "===============\n",
      "Actual: house\n",
      "Pred  : wilson\n",
      "\n",
      "Probs: [  5.80894219e-04   5.13627767e-03   3.00616796e-04   3.67049883e-04\n",
      "   2.60091581e-04   5.44092655e-02   2.83355216e-04   5.14662363e-04\n",
      "   2.76686944e-03   7.86066876e-03   9.27520249e-01]\n",
      "Text : im not gay \n",
      "\n",
      "===============\n",
      "===============\n",
      "Actual: kutner\n",
      "Pred  : cuddy\n",
      "\n",
      "Probs: [  4.88871017e-06   1.43600770e-01   5.60495199e-02   3.59393402e-01\n",
      "   4.78570118e-02   7.35838161e-02   4.50900055e-02   5.39906599e-02\n",
      "   8.57756822e-02   7.24694224e-02   6.21848215e-02]\n",
      "Text : thank you \n",
      "\n",
      "===============\n",
      "===============\n",
      "Actual: wilson\n",
      "Pred  : house\n",
      "\n",
      "Probs: [  8.45158434e-04   6.85595998e-03   8.68629065e-02   1.02888229e-01\n",
      "   6.56441205e-04   7.56554237e-01   9.06699239e-04   1.66071647e-03\n",
      "   1.32509332e-02   2.00924471e-02   9.42627148e-03]\n",
      "Text : and my money clip \n",
      "\n",
      "===============\n",
      "===============\n",
      "Actual: foreman\n",
      "Pred  : cuddy\n",
      "\n",
      "Probs: [  6.07630850e-05   1.31903923e-01   2.05629657e-03   4.90669176e-01\n",
      "   2.10298089e-01   1.32624003e-02   3.26544530e-02   6.27415711e-05\n",
      "   2.14648182e-03   1.12511416e-01   4.37426041e-03]\n",
      "Text : house you there \n",
      "\n",
      "===============\n",
      "===============\n",
      "Actual: stacy\n",
      "Pred  : wilson\n",
      "\n",
      "Probs: [ 0.0909766   0.09100993  0.09079095  0.09087187  0.09094804  0.09091948\n",
      "  0.09076714  0.09095756  0.09081951  0.09069098  0.09124795]\n",
      "Text :  \n",
      "===============\n",
      "===============\n",
      "Actual: cuddy\n",
      "Pred  : thirteen\n",
      "\n",
      "Probs: [ 0.0006645   0.15041865  0.05470133  0.17861152  0.07175669  0.04186809\n",
      "  0.07612556  0.08824236  0.04648294  0.24313109  0.04799726]\n",
      "Text :  im sorry \n",
      "\n",
      "===============\n",
      "===============\n",
      "Actual: chase\n",
      "Pred  : cameron\n",
      "\n",
      "Probs: [  1.50041735e-04   2.84869149e-01   1.51408749e-01   4.03795077e-03\n",
      "   1.40436180e-01   1.73369033e-01   7.50747393e-03   1.09998564e-04\n",
      "   1.16785152e-01   2.64704629e-03   1.18679226e-01]\n",
      "Text : thin cuts \n",
      "\n",
      "===============\n"
     ]
    }
   ],
   "source": [
    "verbose1 = False\n",
    "if verbose1:\n",
    "    predsANB = nb1_adjusted.predict(cv1.transform(dev_data))\n",
    "    probsANB = nb1_adjusted.predict_proba(cv1.transform(dev_data))\n",
    "    for i in range(500):\n",
    "        if (dev_labels[i] != predsANB[i]):\n",
    "            print \"===============\"\n",
    "            print \"Actual: \" + dev_labels[i]\n",
    "            print \"Pred  : \" + predsANB[i]\n",
    "            print speaker_labels\n",
    "            print \"Probs: \" + str(probsANB[i])\n",
    "            print \"Text  \" + dev_data[i]\n",
    "            print \"===============\"\n",
    "        \n",
    "\n",
    "\n",
    "\n",
    "\n",
    "verbose2 = True\n",
    "if verbose2:\n",
    "    for i in range(500):\n",
    "        if (dev_labels[i] != predsANB2[i]):\n",
    "            print \"===============\"\n",
    "            print \"Actual: \" + dev_labels[i]\n",
    "            print \"Pred  : \" + predsANB2[i]\n",
    "            print \n",
    "            print \"Probs: \" + str(probsANB2[i])\n",
    "            print \"Text : \" + dev_data[i]\n",
    "            print \"===============\""
   ]
  },
  {
   "cell_type": "code",
   "execution_count": null,
   "metadata": {
    "collapsed": true
   },
   "outputs": [],
   "source": []
  }
 ],
 "metadata": {
  "kernelspec": {
   "display_name": "Python 2",
   "language": "python",
   "name": "python2"
  },
  "language_info": {
   "codemirror_mode": {
    "name": "ipython",
    "version": 2
   },
   "file_extension": ".py",
   "mimetype": "text/x-python",
   "name": "python",
   "nbconvert_exporter": "python",
   "pygments_lexer": "ipython2",
   "version": "2.7.6"
  }
 },
 "nbformat": 4,
 "nbformat_minor": 0
}
