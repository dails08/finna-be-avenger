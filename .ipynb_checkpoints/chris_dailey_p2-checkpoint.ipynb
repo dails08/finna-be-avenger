{
 "cells": [
  {
   "cell_type": "markdown",
   "metadata": {},
   "source": [
    "# Project 2: Topic Classification"
   ]
  },
  {
   "cell_type": "markdown",
   "metadata": {},
   "source": [
    "In this project, you'll work with text data from newsgroup postings on a variety of topics. You'll train classifiers to distinguish between the topics based on the text of the posts. Whereas with digit classification, the input is relatively dense: a 28x28 matrix of pixels, many of which are non-zero, here we'll represent each document with a \"bag-of-words\" model. As you'll see, this makes the feature representation quite sparse -- only a few words of the total vocabulary are active in any given document. The bag-of-words assumption here is that the label depends only on the words; their order is not important.\n",
    "\n",
    "The SK-learn documentation on feature extraction will prove useful:\n",
    "http://scikit-learn.org/stable/modules/feature_extraction.html\n",
    "\n",
    "Each problem can be addressed succinctly with the included packages -- please don't add any more. Grading will be based on writing clean, commented code, along with a few short answers.\n",
    "\n",
    "As always, you're welcome to work on the project in groups and discuss ideas on the course wall, but please prepare your own write-up and write your own code."
   ]
  },
  {
   "cell_type": "code",
   "execution_count": 1,
   "metadata": {
    "collapsed": false
   },
   "outputs": [],
   "source": [
    "# This tells matplotlib not to try opening a new window for each plot.\n",
    "%matplotlib inline\n",
    "\n",
    "# General libraries.\n",
    "import re\n",
    "import numpy as np\n",
    "import matplotlib.pyplot as plt\n",
    "\n",
    "# SK-learn libraries for learning.\n",
    "from sklearn.pipeline import Pipeline\n",
    "from sklearn.neighbors import KNeighborsClassifier\n",
    "from sklearn.linear_model import LogisticRegression\n",
    "from sklearn.naive_bayes import BernoulliNB\n",
    "from sklearn.naive_bayes import MultinomialNB\n",
    "from sklearn.grid_search import GridSearchCV\n",
    "\n",
    "# SK-learn libraries for evaluation.\n",
    "from sklearn.metrics import confusion_matrix\n",
    "from sklearn import metrics\n",
    "from sklearn.metrics import classification_report\n",
    "\n",
    "# SK-learn library for importing the newsgroup data.\n",
    "from sklearn.datasets import fetch_20newsgroups\n",
    "\n",
    "# SK-learn libraries for feature extraction from text.\n",
    "from sklearn.feature_extraction.text import *"
   ]
  },
  {
   "cell_type": "markdown",
   "metadata": {},
   "source": [
    "Load the data, stripping out metadata so that we learn classifiers that only use textual features. By default, newsgroups data is split into train and test sets. We further split the test so we have a dev set. Note that we specify 4 categories to use for this project. If you remove the categories argument from the fetch function, you'll get all 20 categories."
   ]
  },
  {
   "cell_type": "code",
   "execution_count": 177,
   "metadata": {
    "collapsed": false
   },
   "outputs": [
    {
     "name": "stdout",
     "output_type": "stream",
     "text": [
      "training label shape: (2034,)\n",
      "test label shape: (677,)\n",
      "dev label shape: (676,)\n",
      "labels names: ['alt.atheism', 'comp.graphics', 'sci.space', 'talk.religion.misc']\n"
     ]
    }
   ],
   "source": [
    "categories = ['alt.atheism', 'talk.religion.misc', 'comp.graphics', 'sci.space']\n",
    "#categories = ['alt.atheism', 'comp.graphics', 'sci.space', 'talk.religion.misc']\n",
    "newsgroups_train = fetch_20newsgroups(subset='train',\n",
    "                                      remove=('headers', 'footers', 'quotes'),\n",
    "                                      categories=categories)\n",
    "newsgroups_test = fetch_20newsgroups(subset='test',\n",
    "                                     remove=('headers', 'footers', 'quotes'),\n",
    "                                     categories=categories)\n",
    "\n",
    "num_test = len(newsgroups_test.target)\n",
    "test_data, test_labels = newsgroups_test.data[num_test/2:], newsgroups_test.target[num_test/2:]\n",
    "dev_data, dev_labels = newsgroups_test.data[:num_test/2], newsgroups_test.target[:num_test/2]\n",
    "train_data, train_labels = newsgroups_train.data, newsgroups_train.target\n",
    "\n",
    "\n",
    "print 'training label shape:', train_labels.shape\n",
    "print 'test label shape:', test_labels.shape\n",
    "print 'dev label shape:', dev_labels.shape\n",
    "print 'labels names:', newsgroups_train.target_names"
   ]
  },
  {
   "cell_type": "code",
   "execution_count": 10,
   "metadata": {
    "collapsed": false
   },
   "outputs": [
    {
     "name": "stdout",
     "output_type": "stream",
     "text": [
      "Bunch\n"
     ]
    }
   ],
   "source": [
    "print type(newsgroups_test).__name__"
   ]
  },
  {
   "cell_type": "markdown",
   "metadata": {},
   "source": [
    "(1) For each of the first 5 training examples, print the text of the message along with the label.\n",
    "\n",
    "[2 pts]"
   ]
  },
  {
   "cell_type": "code",
   "execution_count": 3,
   "metadata": {
    "collapsed": false,
    "scrolled": true
   },
   "outputs": [
    {
     "name": "stdout",
     "output_type": "stream",
     "text": [
      "1\n",
      "\tHi,\n",
      "\n",
      "I've noticed that if you only save a model (with all your mapping planes\n",
      "positioned carefully) to a .3DS file that when you reload it after restarting\n",
      "3DS, they are given a default position and orientation.  But if you save\n",
      "to a .PRJ file their positions/orientation are preserved.  Does anyone\n",
      "know why this information is not stored in the .3DS file?  Nothing is\n",
      "explicitly said in the manual about saving texture rules in the .PRJ file. \n",
      "I'd like to be able to read the texture rule information, does anyone have \n",
      "the format for the .PRJ file?\n",
      "\n",
      "Is the .CEL file format available from somewhere?\n",
      "\n",
      "Rych\n",
      "3\n",
      "\t\n",
      "\n",
      "Seems to be, barring evidence to the contrary, that Koresh was simply\n",
      "another deranged fanatic who thought it neccessary to take a whole bunch of\n",
      "folks with him, children and all, to satisfy his delusional mania. Jim\n",
      "Jones, circa 1993.\n",
      "\n",
      "\n",
      "Nope - fruitcakes like Koresh have been demonstrating such evil corruption\n",
      "for centuries.\n",
      "2\n",
      "\t\n",
      " >In article <1993Apr19.020359.26996@sq.sq.com>, msb@sq.sq.com (Mark Brader) \n",
      "\n",
      "MB>                                                             So the\n",
      "MB> 1970 figure seems unlikely to actually be anything but a perijove.\n",
      "\n",
      "JG>Sorry, _perijoves_...I'm not used to talking this language.\n",
      "\n",
      "Couldn't we just say periapsis or apoapsis?\n",
      "\n",
      " \n",
      "0\n",
      "\tI have a request for those who would like to see Charley Wingate\n",
      "respond to the \"Charley Challenges\" (and judging from my e-mail, there\n",
      "appear to be quite a few of you.)  \n",
      "\n",
      "It is clear that Mr. Wingate intends to continue to post tangential or\n",
      "unrelated articles while ingoring the Challenges themselves.  Between\n",
      "the last two re-postings of the Challenges, I noted perhaps a dozen or\n",
      "more posts by Mr. Wingate, none of which answered a single Challenge.  \n",
      "\n",
      "It seems unmistakable to me that Mr. Wingate hopes that the questions\n",
      "will just go away, and he is doing his level best to change the\n",
      "subject.  Given that this seems a rather common net.theist tactic, I\n",
      "would like to suggest that we impress upon him our desire for answers,\n",
      "in the following manner:\n",
      "\n",
      "1. Ignore any future articles by Mr. Wingate that do not address the\n",
      "Challenges, until he answers them or explictly announces that he\n",
      "refuses to do so.\n",
      "\n",
      "--or--\n",
      "\n",
      "2. If you must respond to one of his articles, include within it\n",
      "something similar to the following:\n",
      "\n",
      "    \"Please answer the questions posed to you in the Charley Challenges.\"\n",
      "\n",
      "Really, I'm not looking to humiliate anyone here, I just want some\n",
      "honest answers.  You wouldn't think that honesty would be too much to\n",
      "ask from a devout Christian, would you?  \n",
      "\n",
      "Nevermind, that was a rhetorical question.\n",
      "2\n",
      "\tAW&ST  had a brief blurb on a Manned Lunar Exploration confernce\n",
      "May 7th  at Crystal City Virginia, under the auspices of AIAA.\n",
      "\n",
      "Does anyone know more about this?  How much, to attend????\n",
      "\n",
      "Anyone want to go?\n"
     ]
    }
   ],
   "source": [
    "#def P1(num_examples=5):\n",
    "### STUDENT START ###\n",
    "\n",
    "for i in range(5):\n",
    "    print train_labels[i]\n",
    "    print \"\\t\" + train_data[i]\n",
    "\n",
    "\n",
    "### STUDENT END ###\n",
    "#P1(2)"
   ]
  },
  {
   "cell_type": "markdown",
   "metadata": {},
   "source": [
    "(2) Use CountVectorizer to turn the raw training text into feature vectors. You should use the fit_transform function, which makes 2 passes through the data: first it computes the vocabulary (\"fit\"), second it converts the raw text into feature vectors using the vocabulary (\"transform\").\n",
    "\n",
    "The vectorizer has a lot of options. To get familiar with some of them, write code to answer these questions:\n",
    "\n",
    "a. The output of the transform (also of fit_transform) is a sparse matrix: http://docs.scipy.org/doc/scipy-0.14.0/reference/generated/scipy.sparse.csr_matrix.html. What is the size of the vocabulary? What is the average number of non-zero features per example? What fraction of the entries in the matrix are non-zero? Hint: use \"nnz\" and \"shape\" attributes.\n",
    "\n",
    "b. What are the 0th and last feature strings (in alphabetical order)? Hint: use the vectorizer's get_feature_names function.\n",
    "\n",
    "c. Specify your own vocabulary with 4 words: [\"atheism\", \"graphics\", \"space\", \"religion\"]. Confirm the training vectors are appropriately shaped. Now what's the average number of non-zero features per example?\n",
    "\n",
    "d. Instead of extracting unigram word features, use \"analyzer\" and \"ngram_range\" to extract bigram and trigram character features. What size vocabulary does this yield?\n",
    "\n",
    "e. Use the \"min_df\" argument to prune words that appear in fewer than 10 documents. What size vocabulary does this yield?\n",
    "\n",
    "f. Using the standard CountVectorizer, what fraction of the words in the dev data are missing from the vocabulary? Hint: build a vocabulary for both train and dev and look at the size of the difference.\n",
    "\n",
    "[6 pts]"
   ]
  },
  {
   "cell_type": "code",
   "execution_count": 11,
   "metadata": {
    "collapsed": false
   },
   "outputs": [
    {
     "name": "stdout",
     "output_type": "stream",
     "text": [
      "a.\n",
      "\tThe vocabulary is 26879 words\n",
      "\tThere are 196700 non-zero entries in the sparse matrix\n",
      "\tThe average number of non-zero features per example is 96.7059980334\n",
      "\tThe percent of non-zero entries is 0.359782722696%\n",
      "b.\n",
      "\tThe first and last features are 00 and zyxel\n",
      "c.\n",
      "\tThe shape of the DTM is (2034, 4)\n",
      "\tThe average of nnz features per example is 0.268436578171\n",
      "d.\n",
      "\tThe size of the (2,3)gram vocabulary is 28954\n",
      "e.\n",
      "\tThe size of the trimmed vocabulary is 3064\n",
      "f.\n",
      "\tThere are at least 10633 words in the training set that aren't in the dev set.\n"
     ]
    }
   ],
   "source": [
    "#def P2():\n",
    "### STUDENT START ###\n",
    "\n",
    "fv1 = CountVectorizer()\n",
    "tdm1 = fv1.fit_transform(train_data)\n",
    "\n",
    "print \"a.\"\n",
    "print \"\\tThe vocabulary is \" + str(tdm1.shape[1]) + \" words\"\n",
    "print \"\\tThere are \" +str(tdm1.nnz) + \" non-zero entries in the sparse matrix\"\n",
    "print \"\\tThe average number of non-zero features per example is \" + str(float(tdm1.nnz) / tdm1.shape[0])\n",
    "print \"\\tThe percent of non-zero entries is \" + str(100*float(tdm1.nnz)/(tdm1.shape[0]*tdm1.shape[1])) +\"%\"\n",
    "\n",
    "print \"b.\"\n",
    "feature_names = fv1.get_feature_names()\n",
    "print \"\\tThe first and last features are \" + feature_names[0] + \" and \" + feature_names[-1]\n",
    "\n",
    "print \"c.\"\n",
    "fv2 = CountVectorizer(vocabulary = [\"atheism\", \"graphics\", \"space\", \"religion\"])\n",
    "dtm1 = fv2.transform(train_data)\n",
    "print \"\\tThe shape of the DTM is \" + str(dtm1.shape)\n",
    "print \"\\tThe average of nnz features per example is \" + str(float(dtm1.nnz) / dtm1.shape[0])\n",
    "\n",
    "print \"d.\"\n",
    "fv3 = CountVectorizer(analyzer = \"char_wb\", ngram_range = (2,3))\n",
    "tdm3 = fv3.fit_transform(train_data)\n",
    "print \"\\tThe size of the (2,3)gram vocabulary is \" + str(tdm3.shape[1])\n",
    "\n",
    "print \"e.\"\n",
    "fv4 = CountVectorizer(min_df = 10)\n",
    "tdm4 = fv4.fit_transform(train_data)\n",
    "print \"\\tThe size of the trimmed vocabulary is \" + str(tdm4.shape[1])\n",
    "\n",
    "print \"f.\"\n",
    "fv5 = CountVectorizer()\n",
    "tdm5 = fv5.fit_transform(dev_data)\n",
    "print \"\\tThere are at least \" +str(tdm1.shape[1] - tdm5.shape[1]) + \" words in the training set that aren't in the dev set.\"\n",
    "\n",
    "### STUDENT END ###\n",
    "\n",
    "#P2()"
   ]
  },
  {
   "cell_type": "markdown",
   "metadata": {},
   "source": [
    "(3) Use the default CountVectorizer options and report the f1 score (use metrics.f1_score) for a k nearest neighbors classifier; find the optimal value for k. Also fit a Multinomial Naive Bayes model and find the optimal value for alpha. Finally, fit a logistic regression model and find the optimal value for the regularization strength C using l2 regularization. A few questions:\n",
    "\n",
    "a. Why doesn't nearest neighbors work well for this problem?\n",
    "\n",
    "b. Any ideas why logistic regression doesn't work as well as Naive Bayes?\n",
    "\n",
    "c. Logistic regression estimates a weight vector for each class, which you can access with the coef\\_ attribute. Output the sum of the squared weight values for each class for each setting of the C parameter. Briefly explain the relationship between the sum and the value of C.\n",
    "\n",
    "[4 pts]"
   ]
  },
  {
   "cell_type": "code",
   "execution_count": 80,
   "metadata": {
    "collapsed": false
   },
   "outputs": [
    {
     "name": "stdout",
     "output_type": "stream",
     "text": [
      "0.428760723622\n",
      "{'n_neighbors': 200}"
     ]
    },
    {
     "name": "stderr",
     "output_type": "stream",
     "text": [
      "/usr/local/lib/python2.7/dist-packages/sklearn/metrics/classification.py:676: DeprecationWarning: The default `weighted` averaging is deprecated, and from version 0.18, use of precision, recall or F-score with multiclass or multilabel data or pos_label=None will result in an exception. Please set an explicit value for `average`, one of (None, 'micro', 'macro', 'weighted', 'samples'). In cross validation use, for instance, scoring=\"f1_weighted\" instead of scoring=\"f1\".\n",
      "  sample_weight=sample_weight)\n",
      "/usr/local/lib/python2.7/dist-packages/sklearn/metrics/classification.py:676: DeprecationWarning: The default `weighted` averaging is deprecated, and from version 0.18, use of precision, recall or F-score with multiclass or multilabel data or pos_label=None will result in an exception. Please set an explicit value for `average`, one of (None, 'micro', 'macro', 'weighted', 'samples'). In cross validation use, for instance, scoring=\"f1_weighted\" instead of scoring=\"f1\".\n",
      "  sample_weight=sample_weight)\n"
     ]
    },
    {
     "name": "stdout",
     "output_type": "stream",
     "text": [
      "\n",
      "0.41805566212\n",
      "{'alpha': 0.02}\n",
      "0.783038184579\n",
      "{'C': 0.2}"
     ]
    },
    {
     "name": "stderr",
     "output_type": "stream",
     "text": [
      "/usr/local/lib/python2.7/dist-packages/sklearn/metrics/classification.py:676: DeprecationWarning: The default `weighted` averaging is deprecated, and from version 0.18, use of precision, recall or F-score with multiclass or multilabel data or pos_label=None will result in an exception. Please set an explicit value for `average`, one of (None, 'micro', 'macro', 'weighted', 'samples'). In cross validation use, for instance, scoring=\"f1_weighted\" instead of scoring=\"f1\".\n",
      "  sample_weight=sample_weight)\n",
      "/usr/local/lib/python2.7/dist-packages/sklearn/metrics/classification.py:676: DeprecationWarning: The default `weighted` averaging is deprecated, and from version 0.18, use of precision, recall or F-score with multiclass or multilabel data or pos_label=None will result in an exception. Please set an explicit value for `average`, one of (None, 'micro', 'macro', 'weighted', 'samples'). In cross validation use, for instance, scoring=\"f1_weighted\" instead of scoring=\"f1\".\n",
      "  sample_weight=sample_weight)\n"
     ]
    },
    {
     "name": "stdout",
     "output_type": "stream",
     "text": [
      "\n",
      "0.705873369398\n",
      "0.01: 10.593556445\n",
      "0.02: 21.956254551\n",
      "0.03: 33.0393219794\n",
      "0.06: 64.3331854129\n",
      "0.09: 93.1262746\n",
      "0.1: 102.26969454\n",
      "0.2: 184.463190698\n",
      "0.3: 254.837941548\n",
      "0.4: 317.218390612\n",
      "0.5: 373.674537356\n",
      "0.6: 425.562758435\n",
      "0.7: 473.821757314\n",
      "0.8: 518.822415481\n",
      "0.9: 561.392655267\n",
      "0.99: 597.635534781\n",
      "0.999: 600.795779156\n",
      "0.9999: 601.45122217\n",
      "1: 601.580895746\n"
     ]
    },
    {
     "data": {
      "image/png": "[encoded data removed]",
      "text/plain": [
       "<matplotlib.figure.Figure at 0xafa3094c>"
      ]
     },
     "metadata": {},
     "output_type": "display_data"
    }
   ],
   "source": [
    "#def P3():\n",
    "### STUDENT START ###\n",
    "vocab = CountVectorizer().fit(train_data)\n",
    "dtm6 = CountVectorizer().fit_transform(train_data)\n",
    "knn1 = KNeighborsClassifier().fit(dtm6, train_labels)\n",
    "preds1 = knn1.predict(CountVectorizer(vocabulary = vocab.vocabulary_).transform(dev_data))\n",
    "print metrics.f1_score(dev_labels, preds1)\n",
    "\n",
    "knn2 = GridSearchCV(KNeighborsClassifier(), {\"n_neighbors\": [1,10,50,100,200,300,400,500]})\n",
    "knn2.fit(dtm6, train_labels)\n",
    "print knn2.best_params_\n",
    "preds2 = knn2.predict(CountVectorizer(vocabulary = vocab.vocabulary_).transform(dev_data))\n",
    "print metrics.f1_score(dev_labels, preds2)\n",
    "\n",
    "nb1 = MultinomialNB().fit(dtm6, train_labels)\n",
    "nb2 = GridSearchCV(MultinomialNB(), {'alpha': [0,.01,.02,.03,.06,.09,.1,.2,.3,.4,.5,.6,.7,.8,.9,.99,.999,.9999,1]}).fit(dtm6, train_labels)\n",
    "print nb2.best_params_\n",
    "print metrics.f1_score(dev_labels, nb2.predict(CountVectorizer(vocabulary = vocab.vocabulary_).transform(dev_data)))\n",
    "\n",
    "lr2 = GridSearchCV(LogisticRegression(), {\"C\": [.01,.02,.03,.06,.09,.1,.2,.3,.4,.5,.6,.7,.8,.9,.99,.999,.9999,1]}).fit(dtm6, train_labels)\n",
    "print lr2.best_params_\n",
    "print metrics.f1_score(dev_labels, lr2.predict(CountVectorizer(vocabulary = vocab.vocabulary_).transform(dev_data)))\n",
    "\n",
    "cs = [.01,.02,.03,.06,.09,.1,.2,.3,.4,.5,.6,.7,.8,.9,.99,.999,.9999,1]\n",
    "errors = []\n",
    "for i in cs:\n",
    "    error = np.sum(LogisticRegression(C = i).fit(dtm6, train_labels).coef_**2)\n",
    "    print str(i) + \": \"+ str(error)\n",
    "    errors.append(error)\n",
    "\n",
    "plt.plot(cs,errors)\n",
    "plt.show()\n",
    "\n",
    "\n",
    "### STUDENT END ###\n",
    "#P3()"
   ]
  },
  {
   "cell_type": "markdown",
   "metadata": {},
   "source": [
    "ANSWER:\n",
    "\n",
    "a\n",
    "\n",
    "    NN doesn't perform well probably because a large number of words are common across topics which skews which points are closer in n-space to the test data.  This is probably why the optimal k is so high (200)\n",
    "b\n",
    "\n",
    "    Logistic regression only classified along a hyperplane whereas Naive Bayes can classify to as specific a shape as you dare to make it.  The optimal classification boundary is probably not quite linear.\n",
    "c\n",
    "\n",
    "    Above is the progression in the sum of squares of weights as C increases.  C is the inverse of the regularization strength, which means that as C increases, a smaller and smaller penalty is applied to larger and larger weights, so the size of the weights increases to fit the data.  The danger is that less regularization/higher weights leads to overfitting.\n"
   ]
  },
  {
   "cell_type": "markdown",
   "metadata": {},
   "source": [
    "(4) Train a logistic regression model. Find the 5 features with the largest weights for each label -- 20 features in total. Create a table with 20 rows and 4 columns that shows the weight for each of these features for each of the labels. Create the table again with bigram features. Any surprising features in this table?\n",
    "\n",
    "[5 pts]"
   ]
  },
  {
   "cell_type": "code",
   "execution_count": 179,
   "metadata": {
    "collapsed": false,
    "scrolled": true
   },
   "outputs": [
    {
     "name": "stdout",
     "output_type": "stream",
     "text": [
      "['alt.atheism', 'talk.religion.misc', 'comp.graphics', 'sci.space']\n",
      "[u'atheism', u'religion', u'bobby', u'atheists', u'deletion', u'computer', u'3d', u'file', u'image', u'graphics', u'spacecraft', u'launch', u'nasa', u'orbit', u'space', u'order', u'fbi', u'blood', u'christian', u'christians']\n",
      "[3866, 20430, 4784, 3870, 7841, 6555, 1145, 10376, 12769, 11552, 22570, 14540, 16697, 17597, 22567, 17609, 10234, 4743, 5901, 5904]\n",
      "+0.94 +0.95 +0.99 +1.03 +1.12 +0.14 -0.36 -0.33 -0.58 -0.76 -0.36 -0.47 -0.57 -0.41 -1.26 -0.79 -0.31 -0.53 -0.61 -0.74 \n",
      "-0.41 -0.62 -0.22 -0.10 -0.40 +0.98 +1.12 +1.27 +1.35 +1.94 -0.39 -0.47 -0.48 -0.67 -1.32 -0.08 -0.27 -0.11 -0.42 -0.41 \n",
      "-0.45 -0.79 -0.34 -0.32 -0.42 -0.68 -0.70 -0.81 -0.83 -1.34 +0.92 +0.94 +1.01 +1.22 +2.16 -0.15 -0.45 -0.32 -0.27 -0.53 \n",
      "-0.43 -0.06 -0.46 -0.84 -0.40 -0.49 -0.38 -0.63 -0.47 -0.76 -0.38 -0.33 -0.47 -0.63 -1.17 +0.91 +0.91 +1.05 +1.12 +1.15 \n",
      "80\n",
      "[[ 0.93960007 -0.41020122 -0.44946533 -0.43445215]\n",
      " [ 0.95392077 -0.61686268 -0.79259282 -0.06419343]\n",
      " [ 0.9900969  -0.22074996 -0.34077516 -0.46347006]\n",
      " [ 1.03043766 -0.09760008 -0.32034575 -0.83515896]\n",
      " [ 1.12487857 -0.39802779 -0.42049145 -0.39554871]\n",
      " [ 0.14402096  0.97781719 -0.68195698 -0.48716987]\n",
      " [-0.35894193  1.12497526 -0.70221688 -0.37855299]\n",
      " [-0.33469047  1.26668398 -0.80664331 -0.62670625]\n",
      " [-0.58270865  1.3467496  -0.82588395 -0.46864042]\n",
      " [-0.75839103  1.93667172 -1.33609056 -0.7627974 ]\n",
      " [-0.35545128 -0.3934155   0.9199374  -0.38061199]\n",
      " [-0.47036555 -0.46539985  0.93663414 -0.33249786]\n",
      " [-0.57244215 -0.48019499  1.01151667 -0.46778851]\n",
      " [-0.41386568 -0.67162258  1.22490218 -0.62929448]\n",
      " [-1.26016727 -1.31603062  2.16231258 -1.17088041]\n",
      " [-0.79392375 -0.07952326 -0.14914801  0.90518908]\n",
      " [-0.30897535 -0.27349996 -0.4481248   0.91273264]\n",
      " [-0.5333306  -0.10662419 -0.31606794  1.05465077]\n",
      " [-0.6078451  -0.41864319 -0.27045886  1.11754775]\n",
      " [-0.74030336 -0.40913019 -0.52512271  1.14799304]]\n"
     ]
    },
    {
     "data": {
      "image/png": "[encoded data removed]",
      "text/plain": [
       "<matplotlib.figure.Figure at 0xac99bc0c>"
      ]
     },
     "metadata": {},
     "output_type": "display_data"
    },
    {
     "name": "stdout",
     "output_type": "stream",
     "text": [
      "\n",
      "\n",
      "['alt.atheism', 'talk.religion.misc', 'comp.graphics', 'sci.space']\n",
      "[u'you are', u'look up', u'cheers kent', u'was just', u'claim that', u'out there', u'is there', u'in advance', u'comp graphics', u'looking for', u'sherzer methodology', u'and such', u'sci space', u'the moon', u'the space', u'is strength', u'the fbi', u'compuserve com', u'such lunacy', u'ignorance is']\n",
      "[193317, 98692, 37174, 184771, 38326, 123709, 88596, 81950, 40451, 98723, 148181, 16732, 145068, 165984, 167336, 88528, 164806, 41135, 157376, 80535]\n",
      "+0.57 +0.63 +0.65 +0.68 +0.77 -0.32 -0.43 -0.54 -0.38 -0.76 -0.16 -0.24 -0.32 -0.40 -0.31 -0.18 -0.17 -0.13 -0.15 -0.23 \n",
      "-0.32 -0.24 -0.88 -0.19 -0.26 +0.90 +0.91 +0.97 +1.04 +1.32 -0.23 -0.40 -0.39 -0.58 -0.65 -0.22 -0.26 -0.21 -0.22 -0.25 \n",
      "-0.58 -0.20 -0.82 -0.20 -0.35 -0.58 -0.57 -0.53 -0.47 -0.61 +0.68 +0.69 +0.74 +0.95 +1.03 -0.20 -0.36 -0.20 -0.19 -0.21 \n",
      "+0.00 -0.17 +0.60 -0.30 -0.20 -0.33 -0.34 -0.51 -0.40 -0.70 -0.16 -0.26 -0.27 -0.24 -0.32 +0.65 +0.65 +0.70 +0.71 +0.75 \n",
      "80\n",
      "[[  5.69399673e-01  -3.18418283e-01  -5.77068495e-01   9.48510427e-04]\n",
      " [  6.33816626e-01  -2.38263089e-01  -1.95136058e-01  -1.70549860e-01]\n",
      " [  6.49177989e-01  -8.82277064e-01  -8.21933406e-01   6.01570903e-01]\n",
      " [  6.77633874e-01  -1.92905403e-01  -1.97974326e-01  -3.02003627e-01]\n",
      " [  7.71699052e-01  -2.57609397e-01  -3.52095736e-01  -2.00622761e-01]\n",
      " [ -3.24246639e-01   8.96278758e-01  -5.77911295e-01  -3.32825854e-01]\n",
      " [ -4.28460536e-01   9.12693386e-01  -5.68745386e-01  -3.41523755e-01]\n",
      " [ -5.44993553e-01   9.72295189e-01  -5.31003550e-01  -5.07336602e-01]\n",
      " [ -3.79750613e-01   1.03743020e+00  -4.70816023e-01  -3.96400471e-01]\n",
      " [ -7.55639338e-01   1.31959139e+00  -6.13612550e-01  -6.99946888e-01]\n",
      " [ -1.57734925e-01  -2.26514243e-01   6.75534761e-01  -1.63753354e-01]\n",
      " [ -2.42306295e-01  -3.99625979e-01   6.88117232e-01  -2.56969132e-01]\n",
      " [ -3.17768467e-01  -3.88465077e-01   7.38850299e-01  -2.74811027e-01]\n",
      " [ -4.04890399e-01  -5.76407998e-01   9.51735496e-01  -2.40589173e-01]\n",
      " [ -3.14194573e-01  -6.45696497e-01   1.03012821e+00  -3.24562011e-01]\n",
      " [ -1.76429121e-01  -2.24901381e-01  -1.95191457e-01   6.47990540e-01]\n",
      " [ -1.66689703e-01  -2.61194705e-01  -3.59251868e-01   6.53844031e-01]\n",
      " [ -1.32655455e-01  -2.11857333e-01  -2.00891506e-01   7.01490229e-01]\n",
      " [ -1.49098745e-01  -2.16338097e-01  -1.90681860e-01   7.06567122e-01]\n",
      " [ -2.27888945e-01  -2.53132214e-01  -2.11374008e-01   7.45665776e-01]]\n"
     ]
    },
    {
     "data": {
      "image/png": "[encoded data removed]",
      "text/plain": [
       "<matplotlib.figure.Figure at 0xab3426cc>"
      ]
     },
     "metadata": {},
     "output_type": "display_data"
    }
   ],
   "source": [
    "#def P4():\n",
    "### STUDENT START ###\n",
    "\n",
    "def make_grid(n):\n",
    "    \n",
    "    cv4 = CountVectorizer(ngram_range = (n,n))\n",
    "    dtm7 = cv4.fit_transform(train_data)\n",
    "    #print dtm7.get_feature_names()[:100]\n",
    "    #print dtm7[:10]\n",
    "    lr4 = LogisticRegression().fit(dtm7, train_labels)\n",
    "    keywords = []\n",
    "    features = []\n",
    "    values = []\n",
    "    for i in lr4.coef_:\n",
    "        [features.append(j) for j in np.argsort(i)[-5:]]\n",
    "        [keywords.append(cv4.get_feature_names()[j]) for j in np.argsort(i)[-5:]]\n",
    "    #for j in map(lambda j: cv4.get_feature_names()[j], np.argsort(i)[-5:]):\n",
    "     #   keywords.append(j)\n",
    "    #print keywords\n",
    "    #print features\n",
    "#lr4 = LogisticRegression().fit(train_data, train_label)\n",
    "\n",
    "    for i in range(len(newsgroups_train.target_names)):\n",
    "        line = \"\"#categories[i] + \"\\t\"\n",
    "        for j in features:\n",
    "            line = line + \"{:+3.2f}\".format(lr4.coef_[i][j]) + \" \"\n",
    "            values.append(lr4.coef_[i][j])\n",
    "        print line\n",
    "    #print len(values)\n",
    "    values = np.reshape(values, (20,4), order = \"F\")\n",
    "    print values\n",
    "    fig, ax = plt.subplots()\n",
    "    fig.set_size_inches(4,5)\n",
    "    ax.pcolor(values, cmap=plt.cm.Blues)\n",
    "    \n",
    "    ax.set_yticks(np.arange(20) + 0.5, minor=False)\n",
    "    ax.set_xticks(np.arange(4) + .5, minor=False)\n",
    "    \n",
    "    ax.invert_yaxis()\n",
    "    ax.xaxis.tick_top()\n",
    "    ax.set_xticklabels(newsgroups_train.target_names)\n",
    "    ax.set_yticklabels(keywords)\n",
    "    plt.xticks(rotation = 90)\n",
    "    plt.show()\n",
    "\n",
    "make_grid(1)\n",
    "print \"\"\n",
    "print \"\"\n",
    "make_grid(2)\n",
    "\n",
    "### STUDENT END ###\n",
    "#P4()"
   ]
  },
  {
   "cell_type": "markdown",
   "metadata": {},
   "source": [
    "ANSWER:"
   ]
  },
  {
   "cell_type": "markdown",
   "metadata": {},
   "source": [
    "(5) Try to improve the logistic regression classifier by passing a custom preprocessor to CountVectorizer. The preprocessing function runs on the raw text, before it is split into words by the tokenizer. Your preprocessor should try to normalize the input in various ways to improve generalization. For example, try lowercasing everything, replacing sequences of numbers with a single token, removing various other non-letter characters, and shortening long words. If you're not already familiar with regular expressions for manipulating strings, see https://docs.python.org/2/library/re.html, and re.sub() in particular. With your new preprocessor, how much did you reduce the size of the dictionary?\n",
    "\n",
    "For reference, I was able to improve dev F1 by 2 points.\n",
    "\n",
    "[4 pts]"
   ]
  },
  {
   "cell_type": "code",
   "execution_count": 7,
   "metadata": {
    "collapsed": false
   },
   "outputs": [],
   "source": [
    "def empty_preprocessor(s):\n",
    "    return s\n",
    "\n",
    "#def better_preprocessor(s):\n",
    "### STUDENT START ###\n",
    "\n",
    "### STUDENT END ###\n",
    "\n",
    "#def P5():\n",
    "### STUDENT START ###\n",
    "\n",
    "    \n",
    "### STUDENT END ###\n",
    "#P5()"
   ]
  },
  {
   "cell_type": "markdown",
   "metadata": {},
   "source": [
    "(6) The idea of regularization is to avoid learning very large weights (which are likely to fit the training data, but not generalize well) by adding a penalty to the total size of the learned weights. That is, logistic regression seeks the set of weights that minimizes errors in the training data AND has a small size. The default regularization, L2, computes this size as the sum of the squared weights (see P3, above). L1 regularization computes this size as the sum of the absolute values of the weights. The result is that whereas L2 regularization makes all the weights relatively small, L1 regularization drives lots of the weights to 0, effectively removing unimportant features.\n",
    "\n",
    "Train a logistic regression model using a \"l1\" penalty. Output the number of learned weights that are not equal to zero. How does this compare to the number of non-zero weights you get with \"l2\"? Now, reduce the size of the vocabulary by keeping only those features that have at least one non-zero weight and retrain a model using \"l2\".\n",
    "\n",
    "Make a plot showing accuracy of the re-trained model vs. the vocabulary size you get when pruning unused features by adjusting the C parameter.\n",
    "\n",
    "Note: The gradient descent code that trains the logistic regression model sometimes has trouble converging with extreme settings of the C parameter. Relax the convergence criteria by setting tol=.01 (the default is .0001).\n",
    "\n",
    "[4 pts]"
   ]
  },
  {
   "cell_type": "code",
   "execution_count": 8,
   "metadata": {
    "collapsed": false
   },
   "outputs": [],
   "source": [
    "def P6():\n",
    "    # Keep this random seed here to make comparison easier.\n",
    "    np.random.seed(0)\n",
    "\n",
    "    ### STUDENT START ###\n",
    "\n",
    "    \n",
    "\n",
    "    ### STUDENT END ###\n",
    "P6()"
   ]
  },
  {
   "cell_type": "markdown",
   "metadata": {},
   "source": [
    "(7) Use the TfidfVectorizer -- how is this different from the CountVectorizer? Train a logistic regression model with C=100.\n",
    "\n",
    "Make predictions on the dev data and show the top 3 documents where the ratio R is largest, where R is:\n",
    "\n",
    "maximum predicted probability / predicted probability of the correct label\n",
    "\n",
    "What kinds of mistakes is the model making? Suggest a way to address one particular issue that you see.\n",
    "\n",
    "[4 pts]"
   ]
  },
  {
   "cell_type": "code",
   "execution_count": 11,
   "metadata": {
    "collapsed": false
   },
   "outputs": [],
   "source": [
    "#def P7():\n",
    "    ### STUDENT START ###\n",
    "\n",
    "\n",
    "\n",
    "    ### STUDENT END ###\n",
    "#P7()"
   ]
  },
  {
   "cell_type": "markdown",
   "metadata": {},
   "source": [
    "ANSWER:"
   ]
  },
  {
   "cell_type": "markdown",
   "metadata": {},
   "source": [
    "(8) EXTRA CREDIT\n",
    "\n",
    "Try implementing one of your ideas based on your error analysis. Use logistic regression as your underlying model.\n",
    "\n",
    "- [1 pt] for a reasonable attempt\n",
    "- [2 pts] for improved performance"
   ]
  }
 ],
 "metadata": {
  "kernelspec": {
   "display_name": "Python 2",
   "language": "python",
   "name": "python2"
  },
  "language_info": {
   "codemirror_mode": {
    "name": "ipython",
    "version": 2
   },
   "file_extension": ".py",
   "mimetype": "text/x-python",
   "name": "python",
   "nbconvert_exporter": "python",
   "pygments_lexer": "ipython2",
   "version": "2.7.6"
  }
 },
 "nbformat": 4,
 "nbformat_minor": 0
}
